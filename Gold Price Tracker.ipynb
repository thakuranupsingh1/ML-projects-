{
 "cells": [
  {
   "cell_type": "code",
   "execution_count": 1,
   "id": "e6ed938c-6a1d-47bc-b053-aba5b921e122",
   "metadata": {},
   "outputs": [],
   "source": [
    "import pandas as pd\n",
    "import numpy as np"
   ]
  },
  {
   "cell_type": "code",
   "execution_count": 3,
   "id": "73393dc9-686d-41e3-aea8-62f856535ed1",
   "metadata": {},
   "outputs": [],
   "source": [
    "data = pd.read_csv(r\"C:\\Users\\Dell\\Desktop\\2301010007_B.Tech cse_2_Gold Price Tracker\\gld_price_data.csv\")"
   ]
  },
  {
   "cell_type": "code",
   "execution_count": 5,
   "id": "95430f6e-61f9-4e69-b138-ca3fa07070ab",
   "metadata": {},
   "outputs": [
    {
     "data": {
      "text/html": [
       "<div>\n",
       "<style scoped>\n",
       "    .dataframe tbody tr th:only-of-type {\n",
       "        vertical-align: middle;\n",
       "    }\n",
       "\n",
       "    .dataframe tbody tr th {\n",
       "        vertical-align: top;\n",
       "    }\n",
       "\n",
       "    .dataframe thead th {\n",
       "        text-align: right;\n",
       "    }\n",
       "</style>\n",
       "<table border=\"1\" class=\"dataframe\">\n",
       "  <thead>\n",
       "    <tr style=\"text-align: right;\">\n",
       "      <th></th>\n",
       "      <th>Date</th>\n",
       "      <th>SPX</th>\n",
       "      <th>GLD</th>\n",
       "      <th>USO</th>\n",
       "      <th>SLV</th>\n",
       "      <th>EUR/USD</th>\n",
       "    </tr>\n",
       "  </thead>\n",
       "  <tbody>\n",
       "    <tr>\n",
       "      <th>0</th>\n",
       "      <td>1/2/2008</td>\n",
       "      <td>1447.160034</td>\n",
       "      <td>84.860001</td>\n",
       "      <td>78.470001</td>\n",
       "      <td>15.180</td>\n",
       "      <td>1.471692</td>\n",
       "    </tr>\n",
       "    <tr>\n",
       "      <th>1</th>\n",
       "      <td>1/3/2008</td>\n",
       "      <td>1447.160034</td>\n",
       "      <td>85.570000</td>\n",
       "      <td>78.370003</td>\n",
       "      <td>15.285</td>\n",
       "      <td>1.474491</td>\n",
       "    </tr>\n",
       "    <tr>\n",
       "      <th>2</th>\n",
       "      <td>1/4/2008</td>\n",
       "      <td>1411.630005</td>\n",
       "      <td>85.129997</td>\n",
       "      <td>77.309998</td>\n",
       "      <td>15.167</td>\n",
       "      <td>1.475492</td>\n",
       "    </tr>\n",
       "    <tr>\n",
       "      <th>3</th>\n",
       "      <td>1/7/2008</td>\n",
       "      <td>1416.180054</td>\n",
       "      <td>84.769997</td>\n",
       "      <td>75.500000</td>\n",
       "      <td>15.053</td>\n",
       "      <td>1.468299</td>\n",
       "    </tr>\n",
       "    <tr>\n",
       "      <th>4</th>\n",
       "      <td>1/8/2008</td>\n",
       "      <td>1390.189941</td>\n",
       "      <td>86.779999</td>\n",
       "      <td>76.059998</td>\n",
       "      <td>15.590</td>\n",
       "      <td>1.557099</td>\n",
       "    </tr>\n",
       "  </tbody>\n",
       "</table>\n",
       "</div>"
      ],
      "text/plain": [
       "       Date          SPX        GLD        USO     SLV   EUR/USD\n",
       "0  1/2/2008  1447.160034  84.860001  78.470001  15.180  1.471692\n",
       "1  1/3/2008  1447.160034  85.570000  78.370003  15.285  1.474491\n",
       "2  1/4/2008  1411.630005  85.129997  77.309998  15.167  1.475492\n",
       "3  1/7/2008  1416.180054  84.769997  75.500000  15.053  1.468299\n",
       "4  1/8/2008  1390.189941  86.779999  76.059998  15.590  1.557099"
      ]
     },
     "execution_count": 5,
     "metadata": {},
     "output_type": "execute_result"
    }
   ],
   "source": [
    "data.head()"
   ]
  },
  {
   "cell_type": "markdown",
   "id": "ff30f41a-7a8c-435f-b34b-c9f14f8ffd2f",
   "metadata": {},
   "source": [
    "# Dataset Preprocessing"
   ]
  },
  {
   "cell_type": "markdown",
   "id": "21d56434-58d9-4e52-a73a-b7ec6c91f859",
   "metadata": {},
   "source": [
    "## Missing Values"
   ]
  },
  {
   "cell_type": "code",
   "execution_count": 9,
   "id": "9e91d717-9465-4605-aede-a7c01a9027cc",
   "metadata": {},
   "outputs": [
    {
     "data": {
      "text/plain": [
       "Date       0\n",
       "SPX        0\n",
       "GLD        0\n",
       "USO        0\n",
       "SLV        0\n",
       "EUR/USD    0\n",
       "dtype: int64"
      ]
     },
     "execution_count": 9,
     "metadata": {},
     "output_type": "execute_result"
    }
   ],
   "source": [
    "data.isnull().sum()"
   ]
  },
  {
   "cell_type": "code",
   "execution_count": 33,
   "id": "d0117890-9d3a-4407-87eb-6da44ef967ca",
   "metadata": {},
   "outputs": [
    {
     "name": "stdout",
     "output_type": "stream",
     "text": [
      "           Date          SPX         GLD        USO      SLV   EUR/USD  \\\n",
      "0    2008-01-02  1447.160034   84.860001  78.470001  15.1800  1.471692   \n",
      "1    2008-01-03  1447.160034   85.570000  78.370003  15.2850  1.474491   \n",
      "2    2008-01-04  1411.630005   85.129997  77.309998  15.1670  1.475492   \n",
      "3    2008-01-07  1416.180054   84.769997  75.500000  15.0530  1.468299   \n",
      "4    2008-01-08  1390.189941   86.779999  76.059998  15.5900  1.557099   \n",
      "...         ...          ...         ...        ...      ...       ...   \n",
      "2285 2018-05-08  2671.919922  124.589996  14.060000  15.5100  1.186789   \n",
      "2286 2018-05-09  2697.790039  124.330002  14.370000  15.5300  1.184722   \n",
      "2287 2018-05-10  2723.070068  125.180000  14.410000  15.7400  1.191753   \n",
      "2288 2018-05-14  2730.129883  124.489998  14.380000  15.5600  1.193118   \n",
      "2289 2018-05-16  2725.780029  122.543800  14.405800  15.4542  1.182033   \n",
      "\n",
      "       DateInt  \n",
      "0     20080102  \n",
      "1     20080103  \n",
      "2     20080104  \n",
      "3     20080107  \n",
      "4     20080108  \n",
      "...        ...  \n",
      "2285  20180508  \n",
      "2286  20180509  \n",
      "2287  20180510  \n",
      "2288  20180514  \n",
      "2289  20180516  \n",
      "\n",
      "[2290 rows x 7 columns]\n"
     ]
    }
   ],
   "source": [
    "data['Date'] = pd.to_datetime(data['Date'], format='%m/%d/%Y')\n",
    "\n",
    "# Convert Date to integer in the format YYYYMMDD\n",
    "data['DateInt'] = data['Date'].dt.strftime('%Y%m%d').astype(int)\n",
    "\n",
    "print(data)"
   ]
  },
  {
   "cell_type": "code",
   "execution_count": 47,
   "id": "b6475e1e-a4cf-4583-84e7-df968766dfc2",
   "metadata": {},
   "outputs": [
    {
     "name": "stdout",
     "output_type": "stream",
     "text": [
      "Date       datetime64[ns]\n",
      "SPX               float64\n",
      "GLD               float64\n",
      "USO               float64\n",
      "SLV               float64\n",
      "EUR/USD           float64\n",
      "DateInt             int32\n",
      "dtype: object\n"
     ]
    }
   ],
   "source": [
    "print(data.dtypes)"
   ]
  },
  {
   "cell_type": "code",
   "execution_count": 80,
   "id": "4dda6da0-92c7-4ca7-a4b7-19a4c11dc59b",
   "metadata": {},
   "outputs": [],
   "source": [
    "X = data.iloc[:,[2,3,4,5,6]]\n",
    "y = data.iloc[:,1]"
   ]
  },
  {
   "cell_type": "code",
   "execution_count": 51,
   "id": "a4c580a4-0b0b-46da-8d53-b769fbab6ca0",
   "metadata": {},
   "outputs": [
    {
     "data": {
      "text/html": [
       "<div>\n",
       "<style scoped>\n",
       "    .dataframe tbody tr th:only-of-type {\n",
       "        vertical-align: middle;\n",
       "    }\n",
       "\n",
       "    .dataframe tbody tr th {\n",
       "        vertical-align: top;\n",
       "    }\n",
       "\n",
       "    .dataframe thead th {\n",
       "        text-align: right;\n",
       "    }\n",
       "</style>\n",
       "<table border=\"1\" class=\"dataframe\">\n",
       "  <thead>\n",
       "    <tr style=\"text-align: right;\">\n",
       "      <th></th>\n",
       "      <th>GLD</th>\n",
       "      <th>USO</th>\n",
       "      <th>SLV</th>\n",
       "      <th>EUR/USD</th>\n",
       "      <th>DateInt</th>\n",
       "    </tr>\n",
       "  </thead>\n",
       "  <tbody>\n",
       "    <tr>\n",
       "      <th>0</th>\n",
       "      <td>84.860001</td>\n",
       "      <td>78.470001</td>\n",
       "      <td>15.1800</td>\n",
       "      <td>1.471692</td>\n",
       "      <td>20080102</td>\n",
       "    </tr>\n",
       "    <tr>\n",
       "      <th>1</th>\n",
       "      <td>85.570000</td>\n",
       "      <td>78.370003</td>\n",
       "      <td>15.2850</td>\n",
       "      <td>1.474491</td>\n",
       "      <td>20080103</td>\n",
       "    </tr>\n",
       "    <tr>\n",
       "      <th>2</th>\n",
       "      <td>85.129997</td>\n",
       "      <td>77.309998</td>\n",
       "      <td>15.1670</td>\n",
       "      <td>1.475492</td>\n",
       "      <td>20080104</td>\n",
       "    </tr>\n",
       "    <tr>\n",
       "      <th>3</th>\n",
       "      <td>84.769997</td>\n",
       "      <td>75.500000</td>\n",
       "      <td>15.0530</td>\n",
       "      <td>1.468299</td>\n",
       "      <td>20080107</td>\n",
       "    </tr>\n",
       "    <tr>\n",
       "      <th>4</th>\n",
       "      <td>86.779999</td>\n",
       "      <td>76.059998</td>\n",
       "      <td>15.5900</td>\n",
       "      <td>1.557099</td>\n",
       "      <td>20080108</td>\n",
       "    </tr>\n",
       "    <tr>\n",
       "      <th>...</th>\n",
       "      <td>...</td>\n",
       "      <td>...</td>\n",
       "      <td>...</td>\n",
       "      <td>...</td>\n",
       "      <td>...</td>\n",
       "    </tr>\n",
       "    <tr>\n",
       "      <th>2285</th>\n",
       "      <td>124.589996</td>\n",
       "      <td>14.060000</td>\n",
       "      <td>15.5100</td>\n",
       "      <td>1.186789</td>\n",
       "      <td>20180508</td>\n",
       "    </tr>\n",
       "    <tr>\n",
       "      <th>2286</th>\n",
       "      <td>124.330002</td>\n",
       "      <td>14.370000</td>\n",
       "      <td>15.5300</td>\n",
       "      <td>1.184722</td>\n",
       "      <td>20180509</td>\n",
       "    </tr>\n",
       "    <tr>\n",
       "      <th>2287</th>\n",
       "      <td>125.180000</td>\n",
       "      <td>14.410000</td>\n",
       "      <td>15.7400</td>\n",
       "      <td>1.191753</td>\n",
       "      <td>20180510</td>\n",
       "    </tr>\n",
       "    <tr>\n",
       "      <th>2288</th>\n",
       "      <td>124.489998</td>\n",
       "      <td>14.380000</td>\n",
       "      <td>15.5600</td>\n",
       "      <td>1.193118</td>\n",
       "      <td>20180514</td>\n",
       "    </tr>\n",
       "    <tr>\n",
       "      <th>2289</th>\n",
       "      <td>122.543800</td>\n",
       "      <td>14.405800</td>\n",
       "      <td>15.4542</td>\n",
       "      <td>1.182033</td>\n",
       "      <td>20180516</td>\n",
       "    </tr>\n",
       "  </tbody>\n",
       "</table>\n",
       "<p>2290 rows × 5 columns</p>\n",
       "</div>"
      ],
      "text/plain": [
       "             GLD        USO      SLV   EUR/USD   DateInt\n",
       "0      84.860001  78.470001  15.1800  1.471692  20080102\n",
       "1      85.570000  78.370003  15.2850  1.474491  20080103\n",
       "2      85.129997  77.309998  15.1670  1.475492  20080104\n",
       "3      84.769997  75.500000  15.0530  1.468299  20080107\n",
       "4      86.779999  76.059998  15.5900  1.557099  20080108\n",
       "...          ...        ...      ...       ...       ...\n",
       "2285  124.589996  14.060000  15.5100  1.186789  20180508\n",
       "2286  124.330002  14.370000  15.5300  1.184722  20180509\n",
       "2287  125.180000  14.410000  15.7400  1.191753  20180510\n",
       "2288  124.489998  14.380000  15.5600  1.193118  20180514\n",
       "2289  122.543800  14.405800  15.4542  1.182033  20180516\n",
       "\n",
       "[2290 rows x 5 columns]"
      ]
     },
     "execution_count": 51,
     "metadata": {},
     "output_type": "execute_result"
    }
   ],
   "source": [
    "X"
   ]
  },
  {
   "cell_type": "code",
   "execution_count": 82,
   "id": "57b37f58-9856-4374-a08d-cfadc778d254",
   "metadata": {},
   "outputs": [
    {
     "data": {
      "text/plain": [
       "0       1447.160034\n",
       "1       1447.160034\n",
       "2       1411.630005\n",
       "3       1416.180054\n",
       "4       1390.189941\n",
       "           ...     \n",
       "2285    2671.919922\n",
       "2286    2697.790039\n",
       "2287    2723.070068\n",
       "2288    2730.129883\n",
       "2289    2725.780029\n",
       "Name: SPX, Length: 2290, dtype: float64"
      ]
     },
     "execution_count": 82,
     "metadata": {},
     "output_type": "execute_result"
    }
   ],
   "source": [
    "y"
   ]
  },
  {
   "cell_type": "code",
   "execution_count": 84,
   "id": "7655f1cd-ee63-444a-b11c-75c9e4737a2c",
   "metadata": {},
   "outputs": [
    {
     "data": {
      "text/plain": [
       "(2290, 5)"
      ]
     },
     "execution_count": 84,
     "metadata": {},
     "output_type": "execute_result"
    }
   ],
   "source": [
    "X.shape"
   ]
  },
  {
   "cell_type": "code",
   "execution_count": 86,
   "id": "9031ed1c-f683-4644-96e9-e8a515583741",
   "metadata": {},
   "outputs": [
    {
     "data": {
      "text/plain": [
       "(2290,)"
      ]
     },
     "execution_count": 86,
     "metadata": {},
     "output_type": "execute_result"
    }
   ],
   "source": [
    "y.shape"
   ]
  },
  {
   "cell_type": "markdown",
   "id": "262087ab-2776-41ae-bdf9-d066c3e62254",
   "metadata": {},
   "source": [
    "### Histogram Density Plot"
   ]
  },
  {
   "cell_type": "code",
   "execution_count": 14,
   "id": "37bde341-61ac-449b-bab5-f6f6068ec68f",
   "metadata": {},
   "outputs": [],
   "source": [
    "import matplotlib.pyplot as plt\n",
    "import seaborn as sns"
   ]
  },
  {
   "cell_type": "code",
   "execution_count": 18,
   "id": "cb303628-be4c-4fcd-bca3-c7a0a7e85dde",
   "metadata": {},
   "outputs": [
    {
     "data": {
      "text/plain": [
       "<Axes: ylabel='Count'>"
      ]
     },
     "execution_count": 18,
     "metadata": {},
     "output_type": "execute_result"
    },
    {
     "data": {
      "image/png": "[encoded data removed]",
      "text/plain": [
       "<Figure size 1200x600 with 1 Axes>"
      ]
     },
     "metadata": {},
     "output_type": "display_data"
    }
   ],
   "source": [
    "plt.figure(figsize=(12,6))\n",
    "sns.histplot(data, kde=True)"
   ]
  },
  {
   "cell_type": "markdown",
   "id": "9e014832-e040-411b-adcd-88dc28987ecf",
   "metadata": {},
   "source": [
    "## Correlaton Plot"
   ]
  },
  {
   "cell_type": "code",
   "execution_count": 39,
   "id": "ef3b188f-b740-4328-8e04-44a95f0bbb15",
   "metadata": {},
   "outputs": [
    {
     "data": {
      "text/plain": [
       "Text(0.5, 1.0, 'Pearson Correlation Matrix')"
      ]
     },
     "execution_count": 39,
     "metadata": {},
     "output_type": "execute_result"
    },
    {
     "data": {
      "image/png": "[encoded data removed]",
      "text/plain": [
       "<Figure size 1200x600 with 2 Axes>"
      ]
     },
     "metadata": {},
     "output_type": "display_data"
    }
   ],
   "source": [
    "plt.figure(figsize=(12,6))\n",
    "correlation = data.corr()\n",
    "sns.heatmap(correlation, annot=True, cmap= \"coolwarm\")\n",
    "plt.title(\"Pearson Correlation Matrix\")"
   ]
  },
  {
   "cell_type": "markdown",
   "id": "afa3e37c-2968-41c5-a159-f8212d2d0799",
   "metadata": {},
   "source": [
    "## Outliers Box plot"
   ]
  },
  {
   "cell_type": "code",
   "execution_count": 56,
   "id": "987904a8-6e08-4821-84fe-5b186e978aae",
   "metadata": {},
   "outputs": [
    {
     "data": {
      "text/plain": [
       "([0, 1, 2, 3, 4, 5],\n",
       " [Text(0, 0, 'SPX'),\n",
       "  Text(1, 0, 'GLD'),\n",
       "  Text(2, 0, 'USO'),\n",
       "  Text(3, 0, 'SLV'),\n",
       "  Text(4, 0, 'EUR/USD'),\n",
       "  Text(5, 0, 'DateInt')])"
      ]
     },
     "execution_count": 56,
     "metadata": {},
     "output_type": "execute_result"
    },
    {
     "data": {
      "image/png": "[encoded data removed]",
      "text/plain": [
       "<Figure size 1200x600 with 1 Axes>"
      ]
     },
     "metadata": {},
     "output_type": "display_data"
    }
   ],
   "source": [
    "plt.figure(figsize=(12,6))\n",
    "sns.boxplot(data=data)\n",
    "plt.title(\"Box plot\")\n",
    "plt.xticks(rotation=90)"
   ]
  },
  {
   "cell_type": "markdown",
   "id": "de22d9b4-7864-49f6-bf57-46cff0357517",
   "metadata": {},
   "source": [
    "### Oultliers handling using Z-score method"
   ]
  },
  {
   "cell_type": "code",
   "execution_count": 88,
   "id": "db904574-eb98-4e0b-9082-837822d18b6e",
   "metadata": {},
   "outputs": [],
   "source": [
    "for column in data.columns:\n",
    "    median = data[column].median()\n",
    "    std =  data[column].std()\n",
    "    outliers = (data[column]-median).abs()>3*std\n",
    "    data.loc[outliers, column] = median"
   ]
  },
  {
   "cell_type": "code",
   "execution_count": 61,
   "id": "78826313-8b82-4927-84b7-7e554b530bc1",
   "metadata": {},
   "outputs": [
    {
     "data": {
      "text/plain": [
       "([0, 1, 2, 3, 4, 5],\n",
       " [Text(0, 0, 'SPX'),\n",
       "  Text(1, 0, 'GLD'),\n",
       "  Text(2, 0, 'USO'),\n",
       "  Text(3, 0, 'SLV'),\n",
       "  Text(4, 0, 'EUR/USD'),\n",
       "  Text(5, 0, 'DateInt')])"
      ]
     },
     "execution_count": 61,
     "metadata": {},
     "output_type": "execute_result"
    },
    {
     "data": {
      "image/png": "[encoded data removed]",
      "text/plain": [
       "<Figure size 1200x600 with 1 Axes>"
      ]
     },
     "metadata": {},
     "output_type": "display_data"
    }
   ],
   "source": [
    "plt.figure(figsize=(12,6))\n",
    "sns.boxplot(data=data)\n",
    "plt.title(\"Box plot\")\n",
    "plt.xticks(rotation=90)"
   ]
  },
  {
   "cell_type": "code",
   "execution_count": 90,
   "id": "9cdbd046-1c7b-45ed-aa83-bc264c6d580b",
   "metadata": {},
   "outputs": [],
   "source": [
    "from sklearn.model_selection import train_test_split"
   ]
  },
  {
   "cell_type": "code",
   "execution_count": 92,
   "id": "daf90b4d-9575-42c6-9ae4-41fc153eb23b",
   "metadata": {},
   "outputs": [],
   "source": [
    "\n",
    "X_train, X_test, y_train, y_test = train_test_split(X, y, test_size=0.20, random_state=42)"
   ]
  },
  {
   "cell_type": "markdown",
   "id": "1ba0c312-82d0-4b90-b5ed-3bcba2cd4acd",
   "metadata": {},
   "source": [
    "# Random Forest Regression Model"
   ]
  },
  {
   "cell_type": "code",
   "execution_count": 95,
   "id": "1028f262-e2da-4477-9a84-6dfc1e8a3ada",
   "metadata": {},
   "outputs": [],
   "source": [
    "from sklearn.ensemble import RandomForestRegressor\n",
    "from sklearn.metrics import mean_squared_error, r2_score, mean_absolute_error\n",
    "from sklearn.model_selection import cross_val_score"
   ]
  },
  {
   "cell_type": "code",
   "execution_count": 97,
   "id": "2de110af-393a-450d-85e0-35cad5525538",
   "metadata": {},
   "outputs": [
    {
     "name": "stdout",
     "output_type": "stream",
     "text": [
      "Cross validation MSE: [581.53476633 962.18433702 702.10170217 502.25093367 585.93584524]\n",
      "\n",
      "Cross validation MSE: 666.80\n"
     ]
    }
   ],
   "source": [
    "model = RandomForestRegressor(max_depth=10, max_features='sqrt', n_estimators=500,\n",
    "                      n_jobs=-1)\n",
    "cv_score = cross_val_score(model, X_train, y_train, cv=5, scoring='neg_mean_squared_error')\n",
    "print(f\"Cross validation MSE: {-cv_score}\")\n",
    "print()\n",
    "print(f\"Cross validation MSE: {-cv_score.mean():.2f}\")"
   ]
  },
  {
   "cell_type": "code",
   "execution_count": 100,
   "id": "fa87ef95-5480-44e6-b465-772d7782a19c",
   "metadata": {},
   "outputs": [],
   "source": [
    "from sklearn.model_selection import learning_curve\n"
   ]
  },
  {
   "cell_type": "code",
   "execution_count": 102,
   "id": "18569dfd-89e8-4a85-8287-3538fd2ab3ff",
   "metadata": {},
   "outputs": [],
   "source": [
    "train_sizes, train_scores, test_scores = learning_curve(model, X_train, y_train, cv=5, scoring='neg_mean_squared_error')\n",
    "train_mse = np.mean(-train_scores, axis=1)\n",
    "test_mse = np.mean(-test_scores, axis=1)"
   ]
  },
  {
   "cell_type": "code",
   "execution_count": 103,
   "id": "f8004a2c-3453-485b-ac85-a287a063e564",
   "metadata": {},
   "outputs": [
    {
     "data": {
      "text/plain": [
       "<matplotlib.legend.Legend at 0x2c958c70680>"
      ]
     },
     "execution_count": 103,
     "metadata": {},
     "output_type": "execute_result"
    },
    {
     "data": {
      "image/png": "[encoded data removed]",
      "text/plain": [
       "<Figure size 1200x600 with 1 Axes>"
      ]
     },
     "metadata": {},
     "output_type": "display_data"
    }
   ],
   "source": [
    "plt.figure(figsize=(12,6))\n",
    "plt.plot(train_sizes, train_mse, label=\"Training MSE\")\n",
    "plt.plot(train_sizes, test_mse, label=\"Testing MSE\")\n",
    "plt.xlabel(\"Training Size\")\n",
    "plt.ylabel(\"MSE\")\n",
    "plt.legend()"
   ]
  },
  {
   "cell_type": "markdown",
   "id": "d9eca3d2-25be-4ae2-b8fa-5c504e1aed29",
   "metadata": {},
   "source": [
    "## Hyperparameter Tuning"
   ]
  },
  {
   "cell_type": "markdown",
   "id": "5656898c-9ced-42de-9ed5-96f5aef63f02",
   "metadata": {},
   "source": [
    "### GridSearchCV"
   ]
  },
  {
   "cell_type": "code",
   "execution_count": 108,
   "id": "07aad7f1-cd40-476a-a540-ad067e5c603f",
   "metadata": {},
   "outputs": [],
   "source": [
    "from sklearn.model_selection import GridSearchCV"
   ]
  },
  {
   "cell_type": "code",
   "execution_count": 110,
   "id": "40f4761e-d985-4dc4-a8fc-d4e788b0cbfe",
   "metadata": {},
   "outputs": [],
   "source": [
    "param_grid = {\"n_estimators\":[100,300,500,600], \"max_features\": ['sqrt', 'log2', 'auto'], \"max_depth\": [None, 5, 10, 20]}"
   ]
  },
  {
   "cell_type": "code",
   "execution_count": 112,
   "id": "c217d3c5-28cd-4acc-aad6-9747b9f3f680",
   "metadata": {},
   "outputs": [],
   "source": [
    "grid_search = GridSearchCV(estimator=model, param_grid=param_grid, cv=5, scoring='neg_mean_squared_error', n_jobs=-1)"
   ]
  },
  {
   "cell_type": "code",
   "execution_count": 114,
   "id": "d50ecab6-8faa-457a-a4c3-baa457076a51",
   "metadata": {},
   "outputs": [
    {
     "name": "stderr",
     "output_type": "stream",
     "text": [
      "C:\\Users\\Dell\\anaconda3\\Lib\\site-packages\\sklearn\\model_selection\\_validation.py:547: FitFailedWarning: \n",
      "80 fits failed out of a total of 240.\n",
      "The score on these train-test partitions for these parameters will be set to nan.\n",
      "If these failures are not expected, you can try to debug them by setting error_score='raise'.\n",
      "\n",
      "Below are more details about the failures:\n",
      "--------------------------------------------------------------------------------\n",
      "70 fits failed with the following error:\n",
      "Traceback (most recent call last):\n",
      "  File \"C:\\Users\\Dell\\anaconda3\\Lib\\site-packages\\sklearn\\model_selection\\_validation.py\", line 895, in _fit_and_score\n",
      "    estimator.fit(X_train, y_train, **fit_params)\n",
      "  File \"C:\\Users\\Dell\\anaconda3\\Lib\\site-packages\\sklearn\\base.py\", line 1467, in wrapper\n",
      "    estimator._validate_params()\n",
      "  File \"C:\\Users\\Dell\\anaconda3\\Lib\\site-packages\\sklearn\\base.py\", line 666, in _validate_params\n",
      "    validate_parameter_constraints(\n",
      "  File \"C:\\Users\\Dell\\anaconda3\\Lib\\site-packages\\sklearn\\utils\\_param_validation.py\", line 95, in validate_parameter_constraints\n",
      "    raise InvalidParameterError(\n",
      "sklearn.utils._param_validation.InvalidParameterError: The 'max_features' parameter of RandomForestRegressor must be an int in the range [1, inf), a float in the range (0.0, 1.0], a str among {'sqrt', 'log2'} or None. Got 'auto' instead.\n",
      "\n",
      "--------------------------------------------------------------------------------\n",
      "10 fits failed with the following error:\n",
      "Traceback (most recent call last):\n",
      "  File \"C:\\Users\\Dell\\anaconda3\\Lib\\site-packages\\sklearn\\model_selection\\_validation.py\", line 895, in _fit_and_score\n",
      "    estimator.fit(X_train, y_train, **fit_params)\n",
      "  File \"C:\\Users\\Dell\\anaconda3\\Lib\\site-packages\\sklearn\\base.py\", line 1467, in wrapper\n",
      "    estimator._validate_params()\n",
      "  File \"C:\\Users\\Dell\\anaconda3\\Lib\\site-packages\\sklearn\\base.py\", line 666, in _validate_params\n",
      "    validate_parameter_constraints(\n",
      "  File \"C:\\Users\\Dell\\anaconda3\\Lib\\site-packages\\sklearn\\utils\\_param_validation.py\", line 95, in validate_parameter_constraints\n",
      "    raise InvalidParameterError(\n",
      "sklearn.utils._param_validation.InvalidParameterError: The 'max_features' parameter of RandomForestRegressor must be an int in the range [1, inf), a float in the range (0.0, 1.0], a str among {'log2', 'sqrt'} or None. Got 'auto' instead.\n",
      "\n",
      "  warnings.warn(some_fits_failed_message, FitFailedWarning)\n",
      "C:\\Users\\Dell\\anaconda3\\Lib\\site-packages\\sklearn\\model_selection\\_search.py:1051: UserWarning: One or more of the test scores are non-finite: [ -668.76265308  -588.56646878  -618.61335122  -583.05599343\n",
      "  -640.84611485  -600.83997109  -606.60604077  -571.69773275\n",
      "            nan            nan            nan            nan\n",
      " -2425.8061534  -2541.01416549 -2422.80545713 -2405.08069822\n",
      " -2552.046699   -2514.1488777  -2504.0487994  -2431.76352762\n",
      "            nan            nan            nan            nan\n",
      "  -663.2906883   -667.56613742  -655.75840077  -650.60380656\n",
      "  -646.38379491  -632.77466332  -658.058561    -655.28285946\n",
      "            nan            nan            nan            nan\n",
      "  -596.7061261   -592.03144271  -606.82700136  -586.27959083\n",
      "  -592.47211951  -595.26949887  -580.64950648  -585.11338324\n",
      "            nan            nan            nan            nan]\n",
      "  warnings.warn(\n"
     ]
    },
    {
     "data": {
      "text/html": [
       "<style>#sk-container-id-1 {\n",
       "  /* Definition of color scheme common for light and dark mode */\n",
       "  --sklearn-color-text: black;\n",
       "  --sklearn-color-line: gray;\n",
       "  /* Definition of color scheme for unfitted estimators */\n",
       "  --sklearn-color-unfitted-level-0: #fff5e6;\n",
       "  --sklearn-color-unfitted-level-1: #f6e4d2;\n",
       "  --sklearn-color-unfitted-level-2: #ffe0b3;\n",
       "  --sklearn-color-unfitted-level-3: chocolate;\n",
       "  /* Definition of color scheme for fitted estimators */\n",
       "  --sklearn-color-fitted-level-0: #f0f8ff;\n",
       "  --sklearn-color-fitted-level-1: #d4ebff;\n",
       "  --sklearn-color-fitted-level-2: #b3dbfd;\n",
       "  --sklearn-color-fitted-level-3: cornflowerblue;\n",
       "\n",
       "  /* Specific color for light theme */\n",
       "  --sklearn-color-text-on-default-background: var(--sg-text-color, var(--theme-code-foreground, var(--jp-content-font-color1, black)));\n",
       "  --sklearn-color-background: var(--sg-background-color, var(--theme-background, var(--jp-layout-color0, white)));\n",
       "  --sklearn-color-border-box: var(--sg-text-color, var(--theme-code-foreground, var(--jp-content-font-color1, black)));\n",
       "  --sklearn-color-icon: #696969;\n",
       "\n",
       "  @media (prefers-color-scheme: dark) {\n",
       "    /* Redefinition of color scheme for dark theme */\n",
       "    --sklearn-color-text-on-default-background: var(--sg-text-color, var(--theme-code-foreground, var(--jp-content-font-color1, white)));\n",
       "    --sklearn-color-background: var(--sg-background-color, var(--theme-background, var(--jp-layout-color0, #111)));\n",
       "    --sklearn-color-border-box: var(--sg-text-color, var(--theme-code-foreground, var(--jp-content-font-color1, white)));\n",
       "    --sklearn-color-icon: #878787;\n",
       "  }\n",
       "}\n",
       "\n",
       "#sk-container-id-1 {\n",
       "  color: var(--sklearn-color-text);\n",
       "}\n",
       "\n",
       "#sk-container-id-1 pre {\n",
       "  padding: 0;\n",
       "}\n",
       "\n",
       "#sk-container-id-1 input.sk-hidden--visually {\n",
       "  border: 0;\n",
       "  clip: rect(1px 1px 1px 1px);\n",
       "  clip: rect(1px, 1px, 1px, 1px);\n",
       "  height: 1px;\n",
       "  margin: -1px;\n",
       "  overflow: hidden;\n",
       "  padding: 0;\n",
       "  position: absolute;\n",
       "  width: 1px;\n",
       "}\n",
       "\n",
       "#sk-container-id-1 div.sk-dashed-wrapped {\n",
       "  border: 1px dashed var(--sklearn-color-line);\n",
       "  margin: 0 0.4em 0.5em 0.4em;\n",
       "  box-sizing: border-box;\n",
       "  padding-bottom: 0.4em;\n",
       "  background-color: var(--sklearn-color-background);\n",
       "}\n",
       "\n",
       "#sk-container-id-1 div.sk-container {\n",
       "  /* jupyter's `normalize.less` sets `[hidden] { display: none; }`\n",
       "     but bootstrap.min.css set `[hidden] { display: none !important; }`\n",
       "     so we also need the `!important` here to be able to override the\n",
       "     default hidden behavior on the sphinx rendered scikit-learn.org.\n",
       "     See: https://github.com/scikit-learn/scikit-learn/issues/21755 */\n",
       "  display: inline-block !important;\n",
       "  position: relative;\n",
       "}\n",
       "\n",
       "#sk-container-id-1 div.sk-text-repr-fallback {\n",
       "  display: none;\n",
       "}\n",
       "\n",
       "div.sk-parallel-item,\n",
       "div.sk-serial,\n",
       "div.sk-item {\n",
       "  /* draw centered vertical line to link estimators */\n",
       "  background-image: linear-gradient(var(--sklearn-color-text-on-default-background), var(--sklearn-color-text-on-default-background));\n",
       "  background-size: 2px 100%;\n",
       "  background-repeat: no-repeat;\n",
       "  background-position: center center;\n",
       "}\n",
       "\n",
       "/* Parallel-specific style estimator block */\n",
       "\n",
       "#sk-container-id-1 div.sk-parallel-item::after {\n",
       "  content: \"\";\n",
       "  width: 100%;\n",
       "  border-bottom: 2px solid var(--sklearn-color-text-on-default-background);\n",
       "  flex-grow: 1;\n",
       "}\n",
       "\n",
       "#sk-container-id-1 div.sk-parallel {\n",
       "  display: flex;\n",
       "  align-items: stretch;\n",
       "  justify-content: center;\n",
       "  background-color: var(--sklearn-color-background);\n",
       "  position: relative;\n",
       "}\n",
       "\n",
       "#sk-container-id-1 div.sk-parallel-item {\n",
       "  display: flex;\n",
       "  flex-direction: column;\n",
       "}\n",
       "\n",
       "#sk-container-id-1 div.sk-parallel-item:first-child::after {\n",
       "  align-self: flex-end;\n",
       "  width: 50%;\n",
       "}\n",
       "\n",
       "#sk-container-id-1 div.sk-parallel-item:last-child::after {\n",
       "  align-self: flex-start;\n",
       "  width: 50%;\n",
       "}\n",
       "\n",
       "#sk-container-id-1 div.sk-parallel-item:only-child::after {\n",
       "  width: 0;\n",
       "}\n",
       "\n",
       "/* Serial-specific style estimator block */\n",
       "\n",
       "#sk-container-id-1 div.sk-serial {\n",
       "  display: flex;\n",
       "  flex-direction: column;\n",
       "  align-items: center;\n",
       "  background-color: var(--sklearn-color-background);\n",
       "  padding-right: 1em;\n",
       "  padding-left: 1em;\n",
       "}\n",
       "\n",
       "\n",
       "/* Toggleable style: style used for estimator/Pipeline/ColumnTransformer box that is\n",
       "clickable and can be expanded/collapsed.\n",
       "- Pipeline and ColumnTransformer use this feature and define the default style\n",
       "- Estimators will overwrite some part of the style using the `sk-estimator` class\n",
       "*/\n",
       "\n",
       "/* Pipeline and ColumnTransformer style (default) */\n",
       "\n",
       "#sk-container-id-1 div.sk-toggleable {\n",
       "  /* Default theme specific background. It is overwritten whether we have a\n",
       "  specific estimator or a Pipeline/ColumnTransformer */\n",
       "  background-color: var(--sklearn-color-background);\n",
       "}\n",
       "\n",
       "/* Toggleable label */\n",
       "#sk-container-id-1 label.sk-toggleable__label {\n",
       "  cursor: pointer;\n",
       "  display: block;\n",
       "  width: 100%;\n",
       "  margin-bottom: 0;\n",
       "  padding: 0.5em;\n",
       "  box-sizing: border-box;\n",
       "  text-align: center;\n",
       "}\n",
       "\n",
       "#sk-container-id-1 label.sk-toggleable__label-arrow:before {\n",
       "  /* Arrow on the left of the label */\n",
       "  content: \"▸\";\n",
       "  float: left;\n",
       "  margin-right: 0.25em;\n",
       "  color: var(--sklearn-color-icon);\n",
       "}\n",
       "\n",
       "#sk-container-id-1 label.sk-toggleable__label-arrow:hover:before {\n",
       "  color: var(--sklearn-color-text);\n",
       "}\n",
       "\n",
       "/* Toggleable content - dropdown */\n",
       "\n",
       "#sk-container-id-1 div.sk-toggleable__content {\n",
       "  max-height: 0;\n",
       "  max-width: 0;\n",
       "  overflow: hidden;\n",
       "  text-align: left;\n",
       "  /* unfitted */\n",
       "  background-color: var(--sklearn-color-unfitted-level-0);\n",
       "}\n",
       "\n",
       "#sk-container-id-1 div.sk-toggleable__content.fitted {\n",
       "  /* fitted */\n",
       "  background-color: var(--sklearn-color-fitted-level-0);\n",
       "}\n",
       "\n",
       "#sk-container-id-1 div.sk-toggleable__content pre {\n",
       "  margin: 0.2em;\n",
       "  border-radius: 0.25em;\n",
       "  color: var(--sklearn-color-text);\n",
       "  /* unfitted */\n",
       "  background-color: var(--sklearn-color-unfitted-level-0);\n",
       "}\n",
       "\n",
       "#sk-container-id-1 div.sk-toggleable__content.fitted pre {\n",
       "  /* unfitted */\n",
       "  background-color: var(--sklearn-color-fitted-level-0);\n",
       "}\n",
       "\n",
       "#sk-container-id-1 input.sk-toggleable__control:checked~div.sk-toggleable__content {\n",
       "  /* Expand drop-down */\n",
       "  max-height: 200px;\n",
       "  max-width: 100%;\n",
       "  overflow: auto;\n",
       "}\n",
       "\n",
       "#sk-container-id-1 input.sk-toggleable__control:checked~label.sk-toggleable__label-arrow:before {\n",
       "  content: \"▾\";\n",
       "}\n",
       "\n",
       "/* Pipeline/ColumnTransformer-specific style */\n",
       "\n",
       "#sk-container-id-1 div.sk-label input.sk-toggleable__control:checked~label.sk-toggleable__label {\n",
       "  color: var(--sklearn-color-text);\n",
       "  background-color: var(--sklearn-color-unfitted-level-2);\n",
       "}\n",
       "\n",
       "#sk-container-id-1 div.sk-label.fitted input.sk-toggleable__control:checked~label.sk-toggleable__label {\n",
       "  background-color: var(--sklearn-color-fitted-level-2);\n",
       "}\n",
       "\n",
       "/* Estimator-specific style */\n",
       "\n",
       "/* Colorize estimator box */\n",
       "#sk-container-id-1 div.sk-estimator input.sk-toggleable__control:checked~label.sk-toggleable__label {\n",
       "  /* unfitted */\n",
       "  background-color: var(--sklearn-color-unfitted-level-2);\n",
       "}\n",
       "\n",
       "#sk-container-id-1 div.sk-estimator.fitted input.sk-toggleable__control:checked~label.sk-toggleable__label {\n",
       "  /* fitted */\n",
       "  background-color: var(--sklearn-color-fitted-level-2);\n",
       "}\n",
       "\n",
       "#sk-container-id-1 div.sk-label label.sk-toggleable__label,\n",
       "#sk-container-id-1 div.sk-label label {\n",
       "  /* The background is the default theme color */\n",
       "  color: var(--sklearn-color-text-on-default-background);\n",
       "}\n",
       "\n",
       "/* On hover, darken the color of the background */\n",
       "#sk-container-id-1 div.sk-label:hover label.sk-toggleable__label {\n",
       "  color: var(--sklearn-color-text);\n",
       "  background-color: var(--sklearn-color-unfitted-level-2);\n",
       "}\n",
       "\n",
       "/* Label box, darken color on hover, fitted */\n",
       "#sk-container-id-1 div.sk-label.fitted:hover label.sk-toggleable__label.fitted {\n",
       "  color: var(--sklearn-color-text);\n",
       "  background-color: var(--sklearn-color-fitted-level-2);\n",
       "}\n",
       "\n",
       "/* Estimator label */\n",
       "\n",
       "#sk-container-id-1 div.sk-label label {\n",
       "  font-family: monospace;\n",
       "  font-weight: bold;\n",
       "  display: inline-block;\n",
       "  line-height: 1.2em;\n",
       "}\n",
       "\n",
       "#sk-container-id-1 div.sk-label-container {\n",
       "  text-align: center;\n",
       "}\n",
       "\n",
       "/* Estimator-specific */\n",
       "#sk-container-id-1 div.sk-estimator {\n",
       "  font-family: monospace;\n",
       "  border: 1px dotted var(--sklearn-color-border-box);\n",
       "  border-radius: 0.25em;\n",
       "  box-sizing: border-box;\n",
       "  margin-bottom: 0.5em;\n",
       "  /* unfitted */\n",
       "  background-color: var(--sklearn-color-unfitted-level-0);\n",
       "}\n",
       "\n",
       "#sk-container-id-1 div.sk-estimator.fitted {\n",
       "  /* fitted */\n",
       "  background-color: var(--sklearn-color-fitted-level-0);\n",
       "}\n",
       "\n",
       "/* on hover */\n",
       "#sk-container-id-1 div.sk-estimator:hover {\n",
       "  /* unfitted */\n",
       "  background-color: var(--sklearn-color-unfitted-level-2);\n",
       "}\n",
       "\n",
       "#sk-container-id-1 div.sk-estimator.fitted:hover {\n",
       "  /* fitted */\n",
       "  background-color: var(--sklearn-color-fitted-level-2);\n",
       "}\n",
       "\n",
       "/* Specification for estimator info (e.g. \"i\" and \"?\") */\n",
       "\n",
       "/* Common style for \"i\" and \"?\" */\n",
       "\n",
       ".sk-estimator-doc-link,\n",
       "a:link.sk-estimator-doc-link,\n",
       "a:visited.sk-estimator-doc-link {\n",
       "  float: right;\n",
       "  font-size: smaller;\n",
       "  line-height: 1em;\n",
       "  font-family: monospace;\n",
       "  background-color: var(--sklearn-color-background);\n",
       "  border-radius: 1em;\n",
       "  height: 1em;\n",
       "  width: 1em;\n",
       "  text-decoration: none !important;\n",
       "  margin-left: 1ex;\n",
       "  /* unfitted */\n",
       "  border: var(--sklearn-color-unfitted-level-1) 1pt solid;\n",
       "  color: var(--sklearn-color-unfitted-level-1);\n",
       "}\n",
       "\n",
       ".sk-estimator-doc-link.fitted,\n",
       "a:link.sk-estimator-doc-link.fitted,\n",
       "a:visited.sk-estimator-doc-link.fitted {\n",
       "  /* fitted */\n",
       "  border: var(--sklearn-color-fitted-level-1) 1pt solid;\n",
       "  color: var(--sklearn-color-fitted-level-1);\n",
       "}\n",
       "\n",
       "/* On hover */\n",
       "div.sk-estimator:hover .sk-estimator-doc-link:hover,\n",
       ".sk-estimator-doc-link:hover,\n",
       "div.sk-label-container:hover .sk-estimator-doc-link:hover,\n",
       ".sk-estimator-doc-link:hover {\n",
       "  /* unfitted */\n",
       "  background-color: var(--sklearn-color-unfitted-level-3);\n",
       "  color: var(--sklearn-color-background);\n",
       "  text-decoration: none;\n",
       "}\n",
       "\n",
       "div.sk-estimator.fitted:hover .sk-estimator-doc-link.fitted:hover,\n",
       ".sk-estimator-doc-link.fitted:hover,\n",
       "div.sk-label-container:hover .sk-estimator-doc-link.fitted:hover,\n",
       ".sk-estimator-doc-link.fitted:hover {\n",
       "  /* fitted */\n",
       "  background-color: var(--sklearn-color-fitted-level-3);\n",
       "  color: var(--sklearn-color-background);\n",
       "  text-decoration: none;\n",
       "}\n",
       "\n",
       "/* Span, style for the box shown on hovering the info icon */\n",
       ".sk-estimator-doc-link span {\n",
       "  display: none;\n",
       "  z-index: 9999;\n",
       "  position: relative;\n",
       "  font-weight: normal;\n",
       "  right: .2ex;\n",
       "  padding: .5ex;\n",
       "  margin: .5ex;\n",
       "  width: min-content;\n",
       "  min-width: 20ex;\n",
       "  max-width: 50ex;\n",
       "  color: var(--sklearn-color-text);\n",
       "  box-shadow: 2pt 2pt 4pt #999;\n",
       "  /* unfitted */\n",
       "  background: var(--sklearn-color-unfitted-level-0);\n",
       "  border: .5pt solid var(--sklearn-color-unfitted-level-3);\n",
       "}\n",
       "\n",
       ".sk-estimator-doc-link.fitted span {\n",
       "  /* fitted */\n",
       "  background: var(--sklearn-color-fitted-level-0);\n",
       "  border: var(--sklearn-color-fitted-level-3);\n",
       "}\n",
       "\n",
       ".sk-estimator-doc-link:hover span {\n",
       "  display: block;\n",
       "}\n",
       "\n",
       "/* \"?\"-specific style due to the `<a>` HTML tag */\n",
       "\n",
       "#sk-container-id-1 a.estimator_doc_link {\n",
       "  float: right;\n",
       "  font-size: 1rem;\n",
       "  line-height: 1em;\n",
       "  font-family: monospace;\n",
       "  background-color: var(--sklearn-color-background);\n",
       "  border-radius: 1rem;\n",
       "  height: 1rem;\n",
       "  width: 1rem;\n",
       "  text-decoration: none;\n",
       "  /* unfitted */\n",
       "  color: var(--sklearn-color-unfitted-level-1);\n",
       "  border: var(--sklearn-color-unfitted-level-1) 1pt solid;\n",
       "}\n",
       "\n",
       "#sk-container-id-1 a.estimator_doc_link.fitted {\n",
       "  /* fitted */\n",
       "  border: var(--sklearn-color-fitted-level-1) 1pt solid;\n",
       "  color: var(--sklearn-color-fitted-level-1);\n",
       "}\n",
       "\n",
       "/* On hover */\n",
       "#sk-container-id-1 a.estimator_doc_link:hover {\n",
       "  /* unfitted */\n",
       "  background-color: var(--sklearn-color-unfitted-level-3);\n",
       "  color: var(--sklearn-color-background);\n",
       "  text-decoration: none;\n",
       "}\n",
       "\n",
       "#sk-container-id-1 a.estimator_doc_link.fitted:hover {\n",
       "  /* fitted */\n",
       "  background-color: var(--sklearn-color-fitted-level-3);\n",
       "}\n",
       "</style><div id=\"sk-container-id-1\" class=\"sk-top-container\"><div class=\"sk-text-repr-fallback\"><pre>GridSearchCV(cv=5,\n",
       "             estimator=RandomForestRegressor(max_depth=10, max_features=&#x27;sqrt&#x27;,\n",
       "                                             n_estimators=500, n_jobs=-1),\n",
       "             n_jobs=-1,\n",
       "             param_grid={&#x27;max_depth&#x27;: [None, 5, 10, 20],\n",
       "                         &#x27;max_features&#x27;: [&#x27;sqrt&#x27;, &#x27;log2&#x27;, &#x27;auto&#x27;],\n",
       "                         &#x27;n_estimators&#x27;: [100, 300, 500, 600]},\n",
       "             scoring=&#x27;neg_mean_squared_error&#x27;)</pre><b>In a Jupyter environment, please rerun this cell to show the HTML representation or trust the notebook. <br />On GitHub, the HTML representation is unable to render, please try loading this page with nbviewer.org.</b></div><div class=\"sk-container\" hidden><div class=\"sk-item sk-dashed-wrapped\"><div class=\"sk-label-container\"><div class=\"sk-label fitted sk-toggleable\"><input class=\"sk-toggleable__control sk-hidden--visually\" id=\"sk-estimator-id-1\" type=\"checkbox\" ><label for=\"sk-estimator-id-1\" class=\"sk-toggleable__label fitted sk-toggleable__label-arrow fitted\">&nbsp;&nbsp;GridSearchCV<a class=\"sk-estimator-doc-link fitted\" rel=\"noreferrer\" target=\"_blank\" href=\"https://scikit-learn.org/1.4/modules/generated/sklearn.model_selection.GridSearchCV.html\">?<span>Documentation for GridSearchCV</span></a><span class=\"sk-estimator-doc-link fitted\">i<span>Fitted</span></span></label><div class=\"sk-toggleable__content fitted\"><pre>GridSearchCV(cv=5,\n",
       "             estimator=RandomForestRegressor(max_depth=10, max_features=&#x27;sqrt&#x27;,\n",
       "                                             n_estimators=500, n_jobs=-1),\n",
       "             n_jobs=-1,\n",
       "             param_grid={&#x27;max_depth&#x27;: [None, 5, 10, 20],\n",
       "                         &#x27;max_features&#x27;: [&#x27;sqrt&#x27;, &#x27;log2&#x27;, &#x27;auto&#x27;],\n",
       "                         &#x27;n_estimators&#x27;: [100, 300, 500, 600]},\n",
       "             scoring=&#x27;neg_mean_squared_error&#x27;)</pre></div> </div></div><div class=\"sk-parallel\"><div class=\"sk-parallel-item\"><div class=\"sk-item\"><div class=\"sk-label-container\"><div class=\"sk-label fitted sk-toggleable\"><input class=\"sk-toggleable__control sk-hidden--visually\" id=\"sk-estimator-id-2\" type=\"checkbox\" ><label for=\"sk-estimator-id-2\" class=\"sk-toggleable__label fitted sk-toggleable__label-arrow fitted\">estimator: RandomForestRegressor</label><div class=\"sk-toggleable__content fitted\"><pre>RandomForestRegressor(max_depth=10, max_features=&#x27;sqrt&#x27;, n_estimators=500,\n",
       "                      n_jobs=-1)</pre></div> </div></div><div class=\"sk-serial\"><div class=\"sk-item\"><div class=\"sk-estimator fitted sk-toggleable\"><input class=\"sk-toggleable__control sk-hidden--visually\" id=\"sk-estimator-id-3\" type=\"checkbox\" ><label for=\"sk-estimator-id-3\" class=\"sk-toggleable__label fitted sk-toggleable__label-arrow fitted\">&nbsp;RandomForestRegressor<a class=\"sk-estimator-doc-link fitted\" rel=\"noreferrer\" target=\"_blank\" href=\"https://scikit-learn.org/1.4/modules/generated/sklearn.ensemble.RandomForestRegressor.html\">?<span>Documentation for RandomForestRegressor</span></a></label><div class=\"sk-toggleable__content fitted\"><pre>RandomForestRegressor(max_depth=10, max_features=&#x27;sqrt&#x27;, n_estimators=500,\n",
       "                      n_jobs=-1)</pre></div> </div></div></div></div></div></div></div></div></div>"
      ],
      "text/plain": [
       "GridSearchCV(cv=5,\n",
       "             estimator=RandomForestRegressor(max_depth=10, max_features='sqrt',\n",
       "                                             n_estimators=500, n_jobs=-1),\n",
       "             n_jobs=-1,\n",
       "             param_grid={'max_depth': [None, 5, 10, 20],\n",
       "                         'max_features': ['sqrt', 'log2', 'auto'],\n",
       "                         'n_estimators': [100, 300, 500, 600]},\n",
       "             scoring='neg_mean_squared_error')"
      ]
     },
     "execution_count": 114,
     "metadata": {},
     "output_type": "execute_result"
    }
   ],
   "source": [
    "grid_search.fit(X_train, y_train)"
   ]
  },
  {
   "cell_type": "code",
   "execution_count": 116,
   "id": "2ca59c5b-8372-4a8b-a382-a94d6f8bd619",
   "metadata": {},
   "outputs": [],
   "source": [
    "best_params = grid_search.best_estimator_"
   ]
  },
  {
   "cell_type": "code",
   "execution_count": 118,
   "id": "e7b68cb0-b537-4115-9faf-266f2b59c7c8",
   "metadata": {},
   "outputs": [
    {
     "data": {
      "text/html": [
       "<style>#sk-container-id-2 {\n",
       "  /* Definition of color scheme common for light and dark mode */\n",
       "  --sklearn-color-text: black;\n",
       "  --sklearn-color-line: gray;\n",
       "  /* Definition of color scheme for unfitted estimators */\n",
       "  --sklearn-color-unfitted-level-0: #fff5e6;\n",
       "  --sklearn-color-unfitted-level-1: #f6e4d2;\n",
       "  --sklearn-color-unfitted-level-2: #ffe0b3;\n",
       "  --sklearn-color-unfitted-level-3: chocolate;\n",
       "  /* Definition of color scheme for fitted estimators */\n",
       "  --sklearn-color-fitted-level-0: #f0f8ff;\n",
       "  --sklearn-color-fitted-level-1: #d4ebff;\n",
       "  --sklearn-color-fitted-level-2: #b3dbfd;\n",
       "  --sklearn-color-fitted-level-3: cornflowerblue;\n",
       "\n",
       "  /* Specific color for light theme */\n",
       "  --sklearn-color-text-on-default-background: var(--sg-text-color, var(--theme-code-foreground, var(--jp-content-font-color1, black)));\n",
       "  --sklearn-color-background: var(--sg-background-color, var(--theme-background, var(--jp-layout-color0, white)));\n",
       "  --sklearn-color-border-box: var(--sg-text-color, var(--theme-code-foreground, var(--jp-content-font-color1, black)));\n",
       "  --sklearn-color-icon: #696969;\n",
       "\n",
       "  @media (prefers-color-scheme: dark) {\n",
       "    /* Redefinition of color scheme for dark theme */\n",
       "    --sklearn-color-text-on-default-background: var(--sg-text-color, var(--theme-code-foreground, var(--jp-content-font-color1, white)));\n",
       "    --sklearn-color-background: var(--sg-background-color, var(--theme-background, var(--jp-layout-color0, #111)));\n",
       "    --sklearn-color-border-box: var(--sg-text-color, var(--theme-code-foreground, var(--jp-content-font-color1, white)));\n",
       "    --sklearn-color-icon: #878787;\n",
       "  }\n",
       "}\n",
       "\n",
       "#sk-container-id-2 {\n",
       "  color: var(--sklearn-color-text);\n",
       "}\n",
       "\n",
       "#sk-container-id-2 pre {\n",
       "  padding: 0;\n",
       "}\n",
       "\n",
       "#sk-container-id-2 input.sk-hidden--visually {\n",
       "  border: 0;\n",
       "  clip: rect(1px 1px 1px 1px);\n",
       "  clip: rect(1px, 1px, 1px, 1px);\n",
       "  height: 1px;\n",
       "  margin: -1px;\n",
       "  overflow: hidden;\n",
       "  padding: 0;\n",
       "  position: absolute;\n",
       "  width: 1px;\n",
       "}\n",
       "\n",
       "#sk-container-id-2 div.sk-dashed-wrapped {\n",
       "  border: 1px dashed var(--sklearn-color-line);\n",
       "  margin: 0 0.4em 0.5em 0.4em;\n",
       "  box-sizing: border-box;\n",
       "  padding-bottom: 0.4em;\n",
       "  background-color: var(--sklearn-color-background);\n",
       "}\n",
       "\n",
       "#sk-container-id-2 div.sk-container {\n",
       "  /* jupyter's `normalize.less` sets `[hidden] { display: none; }`\n",
       "     but bootstrap.min.css set `[hidden] { display: none !important; }`\n",
       "     so we also need the `!important` here to be able to override the\n",
       "     default hidden behavior on the sphinx rendered scikit-learn.org.\n",
       "     See: https://github.com/scikit-learn/scikit-learn/issues/21755 */\n",
       "  display: inline-block !important;\n",
       "  position: relative;\n",
       "}\n",
       "\n",
       "#sk-container-id-2 div.sk-text-repr-fallback {\n",
       "  display: none;\n",
       "}\n",
       "\n",
       "div.sk-parallel-item,\n",
       "div.sk-serial,\n",
       "div.sk-item {\n",
       "  /* draw centered vertical line to link estimators */\n",
       "  background-image: linear-gradient(var(--sklearn-color-text-on-default-background), var(--sklearn-color-text-on-default-background));\n",
       "  background-size: 2px 100%;\n",
       "  background-repeat: no-repeat;\n",
       "  background-position: center center;\n",
       "}\n",
       "\n",
       "/* Parallel-specific style estimator block */\n",
       "\n",
       "#sk-container-id-2 div.sk-parallel-item::after {\n",
       "  content: \"\";\n",
       "  width: 100%;\n",
       "  border-bottom: 2px solid var(--sklearn-color-text-on-default-background);\n",
       "  flex-grow: 1;\n",
       "}\n",
       "\n",
       "#sk-container-id-2 div.sk-parallel {\n",
       "  display: flex;\n",
       "  align-items: stretch;\n",
       "  justify-content: center;\n",
       "  background-color: var(--sklearn-color-background);\n",
       "  position: relative;\n",
       "}\n",
       "\n",
       "#sk-container-id-2 div.sk-parallel-item {\n",
       "  display: flex;\n",
       "  flex-direction: column;\n",
       "}\n",
       "\n",
       "#sk-container-id-2 div.sk-parallel-item:first-child::after {\n",
       "  align-self: flex-end;\n",
       "  width: 50%;\n",
       "}\n",
       "\n",
       "#sk-container-id-2 div.sk-parallel-item:last-child::after {\n",
       "  align-self: flex-start;\n",
       "  width: 50%;\n",
       "}\n",
       "\n",
       "#sk-container-id-2 div.sk-parallel-item:only-child::after {\n",
       "  width: 0;\n",
       "}\n",
       "\n",
       "/* Serial-specific style estimator block */\n",
       "\n",
       "#sk-container-id-2 div.sk-serial {\n",
       "  display: flex;\n",
       "  flex-direction: column;\n",
       "  align-items: center;\n",
       "  background-color: var(--sklearn-color-background);\n",
       "  padding-right: 1em;\n",
       "  padding-left: 1em;\n",
       "}\n",
       "\n",
       "\n",
       "/* Toggleable style: style used for estimator/Pipeline/ColumnTransformer box that is\n",
       "clickable and can be expanded/collapsed.\n",
       "- Pipeline and ColumnTransformer use this feature and define the default style\n",
       "- Estimators will overwrite some part of the style using the `sk-estimator` class\n",
       "*/\n",
       "\n",
       "/* Pipeline and ColumnTransformer style (default) */\n",
       "\n",
       "#sk-container-id-2 div.sk-toggleable {\n",
       "  /* Default theme specific background. It is overwritten whether we have a\n",
       "  specific estimator or a Pipeline/ColumnTransformer */\n",
       "  background-color: var(--sklearn-color-background);\n",
       "}\n",
       "\n",
       "/* Toggleable label */\n",
       "#sk-container-id-2 label.sk-toggleable__label {\n",
       "  cursor: pointer;\n",
       "  display: block;\n",
       "  width: 100%;\n",
       "  margin-bottom: 0;\n",
       "  padding: 0.5em;\n",
       "  box-sizing: border-box;\n",
       "  text-align: center;\n",
       "}\n",
       "\n",
       "#sk-container-id-2 label.sk-toggleable__label-arrow:before {\n",
       "  /* Arrow on the left of the label */\n",
       "  content: \"▸\";\n",
       "  float: left;\n",
       "  margin-right: 0.25em;\n",
       "  color: var(--sklearn-color-icon);\n",
       "}\n",
       "\n",
       "#sk-container-id-2 label.sk-toggleable__label-arrow:hover:before {\n",
       "  color: var(--sklearn-color-text);\n",
       "}\n",
       "\n",
       "/* Toggleable content - dropdown */\n",
       "\n",
       "#sk-container-id-2 div.sk-toggleable__content {\n",
       "  max-height: 0;\n",
       "  max-width: 0;\n",
       "  overflow: hidden;\n",
       "  text-align: left;\n",
       "  /* unfitted */\n",
       "  background-color: var(--sklearn-color-unfitted-level-0);\n",
       "}\n",
       "\n",
       "#sk-container-id-2 div.sk-toggleable__content.fitted {\n",
       "  /* fitted */\n",
       "  background-color: var(--sklearn-color-fitted-level-0);\n",
       "}\n",
       "\n",
       "#sk-container-id-2 div.sk-toggleable__content pre {\n",
       "  margin: 0.2em;\n",
       "  border-radius: 0.25em;\n",
       "  color: var(--sklearn-color-text);\n",
       "  /* unfitted */\n",
       "  background-color: var(--sklearn-color-unfitted-level-0);\n",
       "}\n",
       "\n",
       "#sk-container-id-2 div.sk-toggleable__content.fitted pre {\n",
       "  /* unfitted */\n",
       "  background-color: var(--sklearn-color-fitted-level-0);\n",
       "}\n",
       "\n",
       "#sk-container-id-2 input.sk-toggleable__control:checked~div.sk-toggleable__content {\n",
       "  /* Expand drop-down */\n",
       "  max-height: 200px;\n",
       "  max-width: 100%;\n",
       "  overflow: auto;\n",
       "}\n",
       "\n",
       "#sk-container-id-2 input.sk-toggleable__control:checked~label.sk-toggleable__label-arrow:before {\n",
       "  content: \"▾\";\n",
       "}\n",
       "\n",
       "/* Pipeline/ColumnTransformer-specific style */\n",
       "\n",
       "#sk-container-id-2 div.sk-label input.sk-toggleable__control:checked~label.sk-toggleable__label {\n",
       "  color: var(--sklearn-color-text);\n",
       "  background-color: var(--sklearn-color-unfitted-level-2);\n",
       "}\n",
       "\n",
       "#sk-container-id-2 div.sk-label.fitted input.sk-toggleable__control:checked~label.sk-toggleable__label {\n",
       "  background-color: var(--sklearn-color-fitted-level-2);\n",
       "}\n",
       "\n",
       "/* Estimator-specific style */\n",
       "\n",
       "/* Colorize estimator box */\n",
       "#sk-container-id-2 div.sk-estimator input.sk-toggleable__control:checked~label.sk-toggleable__label {\n",
       "  /* unfitted */\n",
       "  background-color: var(--sklearn-color-unfitted-level-2);\n",
       "}\n",
       "\n",
       "#sk-container-id-2 div.sk-estimator.fitted input.sk-toggleable__control:checked~label.sk-toggleable__label {\n",
       "  /* fitted */\n",
       "  background-color: var(--sklearn-color-fitted-level-2);\n",
       "}\n",
       "\n",
       "#sk-container-id-2 div.sk-label label.sk-toggleable__label,\n",
       "#sk-container-id-2 div.sk-label label {\n",
       "  /* The background is the default theme color */\n",
       "  color: var(--sklearn-color-text-on-default-background);\n",
       "}\n",
       "\n",
       "/* On hover, darken the color of the background */\n",
       "#sk-container-id-2 div.sk-label:hover label.sk-toggleable__label {\n",
       "  color: var(--sklearn-color-text);\n",
       "  background-color: var(--sklearn-color-unfitted-level-2);\n",
       "}\n",
       "\n",
       "/* Label box, darken color on hover, fitted */\n",
       "#sk-container-id-2 div.sk-label.fitted:hover label.sk-toggleable__label.fitted {\n",
       "  color: var(--sklearn-color-text);\n",
       "  background-color: var(--sklearn-color-fitted-level-2);\n",
       "}\n",
       "\n",
       "/* Estimator label */\n",
       "\n",
       "#sk-container-id-2 div.sk-label label {\n",
       "  font-family: monospace;\n",
       "  font-weight: bold;\n",
       "  display: inline-block;\n",
       "  line-height: 1.2em;\n",
       "}\n",
       "\n",
       "#sk-container-id-2 div.sk-label-container {\n",
       "  text-align: center;\n",
       "}\n",
       "\n",
       "/* Estimator-specific */\n",
       "#sk-container-id-2 div.sk-estimator {\n",
       "  font-family: monospace;\n",
       "  border: 1px dotted var(--sklearn-color-border-box);\n",
       "  border-radius: 0.25em;\n",
       "  box-sizing: border-box;\n",
       "  margin-bottom: 0.5em;\n",
       "  /* unfitted */\n",
       "  background-color: var(--sklearn-color-unfitted-level-0);\n",
       "}\n",
       "\n",
       "#sk-container-id-2 div.sk-estimator.fitted {\n",
       "  /* fitted */\n",
       "  background-color: var(--sklearn-color-fitted-level-0);\n",
       "}\n",
       "\n",
       "/* on hover */\n",
       "#sk-container-id-2 div.sk-estimator:hover {\n",
       "  /* unfitted */\n",
       "  background-color: var(--sklearn-color-unfitted-level-2);\n",
       "}\n",
       "\n",
       "#sk-container-id-2 div.sk-estimator.fitted:hover {\n",
       "  /* fitted */\n",
       "  background-color: var(--sklearn-color-fitted-level-2);\n",
       "}\n",
       "\n",
       "/* Specification for estimator info (e.g. \"i\" and \"?\") */\n",
       "\n",
       "/* Common style for \"i\" and \"?\" */\n",
       "\n",
       ".sk-estimator-doc-link,\n",
       "a:link.sk-estimator-doc-link,\n",
       "a:visited.sk-estimator-doc-link {\n",
       "  float: right;\n",
       "  font-size: smaller;\n",
       "  line-height: 1em;\n",
       "  font-family: monospace;\n",
       "  background-color: var(--sklearn-color-background);\n",
       "  border-radius: 1em;\n",
       "  height: 1em;\n",
       "  width: 1em;\n",
       "  text-decoration: none !important;\n",
       "  margin-left: 1ex;\n",
       "  /* unfitted */\n",
       "  border: var(--sklearn-color-unfitted-level-1) 1pt solid;\n",
       "  color: var(--sklearn-color-unfitted-level-1);\n",
       "}\n",
       "\n",
       ".sk-estimator-doc-link.fitted,\n",
       "a:link.sk-estimator-doc-link.fitted,\n",
       "a:visited.sk-estimator-doc-link.fitted {\n",
       "  /* fitted */\n",
       "  border: var(--sklearn-color-fitted-level-1) 1pt solid;\n",
       "  color: var(--sklearn-color-fitted-level-1);\n",
       "}\n",
       "\n",
       "/* On hover */\n",
       "div.sk-estimator:hover .sk-estimator-doc-link:hover,\n",
       ".sk-estimator-doc-link:hover,\n",
       "div.sk-label-container:hover .sk-estimator-doc-link:hover,\n",
       ".sk-estimator-doc-link:hover {\n",
       "  /* unfitted */\n",
       "  background-color: var(--sklearn-color-unfitted-level-3);\n",
       "  color: var(--sklearn-color-background);\n",
       "  text-decoration: none;\n",
       "}\n",
       "\n",
       "div.sk-estimator.fitted:hover .sk-estimator-doc-link.fitted:hover,\n",
       ".sk-estimator-doc-link.fitted:hover,\n",
       "div.sk-label-container:hover .sk-estimator-doc-link.fitted:hover,\n",
       ".sk-estimator-doc-link.fitted:hover {\n",
       "  /* fitted */\n",
       "  background-color: var(--sklearn-color-fitted-level-3);\n",
       "  color: var(--sklearn-color-background);\n",
       "  text-decoration: none;\n",
       "}\n",
       "\n",
       "/* Span, style for the box shown on hovering the info icon */\n",
       ".sk-estimator-doc-link span {\n",
       "  display: none;\n",
       "  z-index: 9999;\n",
       "  position: relative;\n",
       "  font-weight: normal;\n",
       "  right: .2ex;\n",
       "  padding: .5ex;\n",
       "  margin: .5ex;\n",
       "  width: min-content;\n",
       "  min-width: 20ex;\n",
       "  max-width: 50ex;\n",
       "  color: var(--sklearn-color-text);\n",
       "  box-shadow: 2pt 2pt 4pt #999;\n",
       "  /* unfitted */\n",
       "  background: var(--sklearn-color-unfitted-level-0);\n",
       "  border: .5pt solid var(--sklearn-color-unfitted-level-3);\n",
       "}\n",
       "\n",
       ".sk-estimator-doc-link.fitted span {\n",
       "  /* fitted */\n",
       "  background: var(--sklearn-color-fitted-level-0);\n",
       "  border: var(--sklearn-color-fitted-level-3);\n",
       "}\n",
       "\n",
       ".sk-estimator-doc-link:hover span {\n",
       "  display: block;\n",
       "}\n",
       "\n",
       "/* \"?\"-specific style due to the `<a>` HTML tag */\n",
       "\n",
       "#sk-container-id-2 a.estimator_doc_link {\n",
       "  float: right;\n",
       "  font-size: 1rem;\n",
       "  line-height: 1em;\n",
       "  font-family: monospace;\n",
       "  background-color: var(--sklearn-color-background);\n",
       "  border-radius: 1rem;\n",
       "  height: 1rem;\n",
       "  width: 1rem;\n",
       "  text-decoration: none;\n",
       "  /* unfitted */\n",
       "  color: var(--sklearn-color-unfitted-level-1);\n",
       "  border: var(--sklearn-color-unfitted-level-1) 1pt solid;\n",
       "}\n",
       "\n",
       "#sk-container-id-2 a.estimator_doc_link.fitted {\n",
       "  /* fitted */\n",
       "  border: var(--sklearn-color-fitted-level-1) 1pt solid;\n",
       "  color: var(--sklearn-color-fitted-level-1);\n",
       "}\n",
       "\n",
       "/* On hover */\n",
       "#sk-container-id-2 a.estimator_doc_link:hover {\n",
       "  /* unfitted */\n",
       "  background-color: var(--sklearn-color-unfitted-level-3);\n",
       "  color: var(--sklearn-color-background);\n",
       "  text-decoration: none;\n",
       "}\n",
       "\n",
       "#sk-container-id-2 a.estimator_doc_link.fitted:hover {\n",
       "  /* fitted */\n",
       "  background-color: var(--sklearn-color-fitted-level-3);\n",
       "}\n",
       "</style><div id=\"sk-container-id-2\" class=\"sk-top-container\"><div class=\"sk-text-repr-fallback\"><pre>RandomForestRegressor(max_features=&#x27;log2&#x27;, n_estimators=600, n_jobs=-1)</pre><b>In a Jupyter environment, please rerun this cell to show the HTML representation or trust the notebook. <br />On GitHub, the HTML representation is unable to render, please try loading this page with nbviewer.org.</b></div><div class=\"sk-container\" hidden><div class=\"sk-item\"><div class=\"sk-estimator fitted sk-toggleable\"><input class=\"sk-toggleable__control sk-hidden--visually\" id=\"sk-estimator-id-4\" type=\"checkbox\" checked><label for=\"sk-estimator-id-4\" class=\"sk-toggleable__label fitted sk-toggleable__label-arrow fitted\">&nbsp;&nbsp;RandomForestRegressor<a class=\"sk-estimator-doc-link fitted\" rel=\"noreferrer\" target=\"_blank\" href=\"https://scikit-learn.org/1.4/modules/generated/sklearn.ensemble.RandomForestRegressor.html\">?<span>Documentation for RandomForestRegressor</span></a><span class=\"sk-estimator-doc-link fitted\">i<span>Fitted</span></span></label><div class=\"sk-toggleable__content fitted\"><pre>RandomForestRegressor(max_features=&#x27;log2&#x27;, n_estimators=600, n_jobs=-1)</pre></div> </div></div></div></div>"
      ],
      "text/plain": [
       "RandomForestRegressor(max_features='log2', n_estimators=600, n_jobs=-1)"
      ]
     },
     "execution_count": 118,
     "metadata": {},
     "output_type": "execute_result"
    }
   ],
   "source": [
    "best_params"
   ]
  },
  {
   "cell_type": "code",
   "execution_count": 120,
   "id": "8c784230-464d-43e5-b780-c09e1b62e1c5",
   "metadata": {},
   "outputs": [],
   "source": [
    "param_grid = {\"n_estimators\":[100,300,500,600], \"max_features\": ['sqrt', 'log2', 'auto'], \"max_depth\": [None, 5, 10, 20]}"
   ]
  },
  {
   "cell_type": "code",
   "execution_count": 122,
   "id": "0f04e1be-b2aa-499d-9384-e638fbae778e",
   "metadata": {},
   "outputs": [
    {
     "data": {
      "text/plain": [
       "{'max_depth': None, 'max_features': 'log2', 'n_estimators': 600}"
      ]
     },
     "execution_count": 122,
     "metadata": {},
     "output_type": "execute_result"
    }
   ],
   "source": [
    "grid_search.best_params_"
   ]
  },
  {
   "cell_type": "code",
   "execution_count": 124,
   "id": "5ae2e2a9-0014-4602-afa5-ebb9f0c8546a",
   "metadata": {},
   "outputs": [],
   "source": [
    "data_1 = grid_search.cv_results_[\"mean_test_score\"]"
   ]
  },
  {
   "cell_type": "code",
   "execution_count": 126,
   "id": "2ab5f30e-a6ec-422f-8789-b491b99c3d95",
   "metadata": {},
   "outputs": [
    {
     "data": {
      "text/plain": [
       "(48,)"
      ]
     },
     "execution_count": 126,
     "metadata": {},
     "output_type": "execute_result"
    }
   ],
   "source": [
    "data_1.shape"
   ]
  },
  {
   "cell_type": "code",
   "execution_count": 128,
   "id": "81af74ee-1e76-49ea-84ee-bc898882f43c",
   "metadata": {},
   "outputs": [
    {
     "data": {
      "text/plain": [
       "Text(0.5, 0, 'Iterations')"
      ]
     },
     "execution_count": 128,
     "metadata": {},
     "output_type": "execute_result"
    },
    {
     "data": {
      "image/png": "[encoded data removed]",
      "text/plain": [
       "<Figure size 640x480 with 1 Axes>"
      ]
     },
     "metadata": {},
     "output_type": "display_data"
    }
   ],
   "source": [
    "plt.scatter(np.arange(1,49),data_1*-1)\n",
    "plt.ylabel(\"MSE\")\n",
    "plt.xlabel(\"Iterations\")"
   ]
  },
  {
   "cell_type": "code",
   "execution_count": 130,
   "id": "8c5b79e1-b9e1-4e64-a02d-4dd7d3c96304",
   "metadata": {},
   "outputs": [
    {
     "data": {
      "text/plain": [
       "{'mean_fit_time': array([9.77235174e-01, 3.09648886e+00, 5.64792943e+00, 6.79752183e+00,\n",
       "        1.69872766e+00, 3.22547913e+00, 4.66813526e+00, 6.25652890e+00,\n",
       "        3.45411301e-03, 6.25128746e-03, 1.13637447e-02, 1.65428638e-02,\n",
       "        1.36756659e+00, 2.48333964e+00, 3.02769451e+00, 4.61206446e+00,\n",
       "        8.27023697e-01, 2.50697937e+00, 3.89627104e+00, 6.10336394e+00,\n",
       "        1.17399216e-02, 3.45263481e-03, 1.27515793e-02, 1.10401154e-02,\n",
       "        1.37466917e+00, 3.18061972e+00, 5.10023537e+00, 7.28636398e+00,\n",
       "        1.56700125e+00, 4.19145098e+00, 4.94975100e+00, 6.47236967e+00,\n",
       "        5.44919968e-03, 5.28616905e-03, 1.37876987e-02, 2.70843506e-03,\n",
       "        1.15727205e+00, 3.95028605e+00, 6.31261864e+00, 8.47623382e+00,\n",
       "        1.45722828e+00, 4.44690609e+00, 6.01579742e+00, 7.12715125e+00,\n",
       "        2.68832207e-02, 1.64249897e-02, 6.90636635e-03, 2.83579826e-03]),\n",
       " 'std_fit_time': array([2.37324042e-01, 3.58245233e-01, 3.39058617e-01, 5.76717436e-01,\n",
       "        3.46514334e-01, 2.35264897e-01, 2.89975617e-01, 4.74481992e-01,\n",
       "        1.21098118e-03, 4.54889384e-03, 8.05255058e-03, 2.48361499e-02,\n",
       "        3.79252937e-01, 1.48322366e-01, 3.85870904e-01, 1.94023857e-01,\n",
       "        1.93516584e-01, 2.55247757e-01, 4.92667211e-01, 3.01134042e-01,\n",
       "        6.44194630e-03, 6.56388052e-04, 6.86321028e-03, 9.94659154e-03,\n",
       "        5.73112868e-01, 3.53771964e-01, 4.25032352e-01, 7.26959115e-01,\n",
       "        3.28937695e-01, 2.50565755e-01, 7.61636391e-01, 3.94566206e-01,\n",
       "        4.62527030e-03, 2.20842882e-03, 9.51772865e-03, 3.96697652e-04,\n",
       "        1.13149015e-01, 3.50171795e-01, 4.20841396e-01, 2.68687844e-01,\n",
       "        4.56050097e-01, 2.15938696e-01, 4.91614818e-01, 1.05249056e+00,\n",
       "        2.95314252e-02, 2.18486866e-02, 7.11136701e-03, 6.88501958e-04]),\n",
       " 'mean_score_time': array([0.45977015, 0.69551153, 1.13011427, 0.70058985, 0.59763722,\n",
       "        0.45709457, 0.87624063, 0.57476249, 0.        , 0.        ,\n",
       "        0.        , 0.        , 0.36784534, 0.19974923, 0.32017322,\n",
       "        0.52532816, 0.28296013, 0.37103686, 0.66925092, 0.75928502,\n",
       "        0.        , 0.        , 0.        , 0.        , 0.38118253,\n",
       "        0.57785053, 1.04360752, 0.85337253, 0.34310117, 0.59595032,\n",
       "        0.76535873, 0.9373013 , 0.        , 0.        , 0.        ,\n",
       "        0.        , 0.23239622, 0.53443437, 1.37716484, 0.69737349,\n",
       "        0.29081717, 0.68311315, 1.16953306, 0.41141739, 0.        ,\n",
       "        0.        , 0.        , 0.        ]),\n",
       " 'std_score_time': array([0.13951619, 0.26047182, 0.43175239, 0.13989408, 0.22860591,\n",
       "        0.15550026, 0.1440339 , 0.14514329, 0.        , 0.        ,\n",
       "        0.        , 0.        , 0.12315373, 0.02712039, 0.10344168,\n",
       "        0.13792262, 0.11734074, 0.19121659, 0.1106819 , 0.29111523,\n",
       "        0.        , 0.        , 0.        , 0.        , 0.08695755,\n",
       "        0.21195404, 0.37671112, 0.23733081, 0.05891773, 0.19560937,\n",
       "        0.19039381, 0.23908032, 0.        , 0.        , 0.        ,\n",
       "        0.        , 0.05201248, 0.32468244, 0.2445664 , 0.23833612,\n",
       "        0.10874408, 0.06307859, 0.27364173, 0.10732954, 0.        ,\n",
       "        0.        , 0.        , 0.        ]),\n",
       " 'param_max_depth': masked_array(data=[None, None, None, None, None, None, None, None, None,\n",
       "                    None, None, None, 5, 5, 5, 5, 5, 5, 5, 5, 5, 5, 5, 5,\n",
       "                    10, 10, 10, 10, 10, 10, 10, 10, 10, 10, 10, 10, 20, 20,\n",
       "                    20, 20, 20, 20, 20, 20, 20, 20, 20, 20],\n",
       "              mask=[False, False, False, False, False, False, False, False,\n",
       "                    False, False, False, False, False, False, False, False,\n",
       "                    False, False, False, False, False, False, False, False,\n",
       "                    False, False, False, False, False, False, False, False,\n",
       "                    False, False, False, False, False, False, False, False,\n",
       "                    False, False, False, False, False, False, False, False],\n",
       "        fill_value='?',\n",
       "             dtype=object),\n",
       " 'param_max_features': masked_array(data=['sqrt', 'sqrt', 'sqrt', 'sqrt', 'log2', 'log2', 'log2',\n",
       "                    'log2', 'auto', 'auto', 'auto', 'auto', 'sqrt', 'sqrt',\n",
       "                    'sqrt', 'sqrt', 'log2', 'log2', 'log2', 'log2', 'auto',\n",
       "                    'auto', 'auto', 'auto', 'sqrt', 'sqrt', 'sqrt', 'sqrt',\n",
       "                    'log2', 'log2', 'log2', 'log2', 'auto', 'auto', 'auto',\n",
       "                    'auto', 'sqrt', 'sqrt', 'sqrt', 'sqrt', 'log2', 'log2',\n",
       "                    'log2', 'log2', 'auto', 'auto', 'auto', 'auto'],\n",
       "              mask=[False, False, False, False, False, False, False, False,\n",
       "                    False, False, False, False, False, False, False, False,\n",
       "                    False, False, False, False, False, False, False, False,\n",
       "                    False, False, False, False, False, False, False, False,\n",
       "                    False, False, False, False, False, False, False, False,\n",
       "                    False, False, False, False, False, False, False, False],\n",
       "        fill_value='?',\n",
       "             dtype=object),\n",
       " 'param_n_estimators': masked_array(data=[100, 300, 500, 600, 100, 300, 500, 600, 100, 300, 500,\n",
       "                    600, 100, 300, 500, 600, 100, 300, 500, 600, 100, 300,\n",
       "                    500, 600, 100, 300, 500, 600, 100, 300, 500, 600, 100,\n",
       "                    300, 500, 600, 100, 300, 500, 600, 100, 300, 500, 600,\n",
       "                    100, 300, 500, 600],\n",
       "              mask=[False, False, False, False, False, False, False, False,\n",
       "                    False, False, False, False, False, False, False, False,\n",
       "                    False, False, False, False, False, False, False, False,\n",
       "                    False, False, False, False, False, False, False, False,\n",
       "                    False, False, False, False, False, False, False, False,\n",
       "                    False, False, False, False, False, False, False, False],\n",
       "        fill_value='?',\n",
       "             dtype=object),\n",
       " 'params': [{'max_depth': None, 'max_features': 'sqrt', 'n_estimators': 100},\n",
       "  {'max_depth': None, 'max_features': 'sqrt', 'n_estimators': 300},\n",
       "  {'max_depth': None, 'max_features': 'sqrt', 'n_estimators': 500},\n",
       "  {'max_depth': None, 'max_features': 'sqrt', 'n_estimators': 600},\n",
       "  {'max_depth': None, 'max_features': 'log2', 'n_estimators': 100},\n",
       "  {'max_depth': None, 'max_features': 'log2', 'n_estimators': 300},\n",
       "  {'max_depth': None, 'max_features': 'log2', 'n_estimators': 500},\n",
       "  {'max_depth': None, 'max_features': 'log2', 'n_estimators': 600},\n",
       "  {'max_depth': None, 'max_features': 'auto', 'n_estimators': 100},\n",
       "  {'max_depth': None, 'max_features': 'auto', 'n_estimators': 300},\n",
       "  {'max_depth': None, 'max_features': 'auto', 'n_estimators': 500},\n",
       "  {'max_depth': None, 'max_features': 'auto', 'n_estimators': 600},\n",
       "  {'max_depth': 5, 'max_features': 'sqrt', 'n_estimators': 100},\n",
       "  {'max_depth': 5, 'max_features': 'sqrt', 'n_estimators': 300},\n",
       "  {'max_depth': 5, 'max_features': 'sqrt', 'n_estimators': 500},\n",
       "  {'max_depth': 5, 'max_features': 'sqrt', 'n_estimators': 600},\n",
       "  {'max_depth': 5, 'max_features': 'log2', 'n_estimators': 100},\n",
       "  {'max_depth': 5, 'max_features': 'log2', 'n_estimators': 300},\n",
       "  {'max_depth': 5, 'max_features': 'log2', 'n_estimators': 500},\n",
       "  {'max_depth': 5, 'max_features': 'log2', 'n_estimators': 600},\n",
       "  {'max_depth': 5, 'max_features': 'auto', 'n_estimators': 100},\n",
       "  {'max_depth': 5, 'max_features': 'auto', 'n_estimators': 300},\n",
       "  {'max_depth': 5, 'max_features': 'auto', 'n_estimators': 500},\n",
       "  {'max_depth': 5, 'max_features': 'auto', 'n_estimators': 600},\n",
       "  {'max_depth': 10, 'max_features': 'sqrt', 'n_estimators': 100},\n",
       "  {'max_depth': 10, 'max_features': 'sqrt', 'n_estimators': 300},\n",
       "  {'max_depth': 10, 'max_features': 'sqrt', 'n_estimators': 500},\n",
       "  {'max_depth': 10, 'max_features': 'sqrt', 'n_estimators': 600},\n",
       "  {'max_depth': 10, 'max_features': 'log2', 'n_estimators': 100},\n",
       "  {'max_depth': 10, 'max_features': 'log2', 'n_estimators': 300},\n",
       "  {'max_depth': 10, 'max_features': 'log2', 'n_estimators': 500},\n",
       "  {'max_depth': 10, 'max_features': 'log2', 'n_estimators': 600},\n",
       "  {'max_depth': 10, 'max_features': 'auto', 'n_estimators': 100},\n",
       "  {'max_depth': 10, 'max_features': 'auto', 'n_estimators': 300},\n",
       "  {'max_depth': 10, 'max_features': 'auto', 'n_estimators': 500},\n",
       "  {'max_depth': 10, 'max_features': 'auto', 'n_estimators': 600},\n",
       "  {'max_depth': 20, 'max_features': 'sqrt', 'n_estimators': 100},\n",
       "  {'max_depth': 20, 'max_features': 'sqrt', 'n_estimators': 300},\n",
       "  {'max_depth': 20, 'max_features': 'sqrt', 'n_estimators': 500},\n",
       "  {'max_depth': 20, 'max_features': 'sqrt', 'n_estimators': 600},\n",
       "  {'max_depth': 20, 'max_features': 'log2', 'n_estimators': 100},\n",
       "  {'max_depth': 20, 'max_features': 'log2', 'n_estimators': 300},\n",
       "  {'max_depth': 20, 'max_features': 'log2', 'n_estimators': 500},\n",
       "  {'max_depth': 20, 'max_features': 'log2', 'n_estimators': 600},\n",
       "  {'max_depth': 20, 'max_features': 'auto', 'n_estimators': 100},\n",
       "  {'max_depth': 20, 'max_features': 'auto', 'n_estimators': 300},\n",
       "  {'max_depth': 20, 'max_features': 'auto', 'n_estimators': 500},\n",
       "  {'max_depth': 20, 'max_features': 'auto', 'n_estimators': 600}],\n",
       " 'split0_test_score': array([ -574.07419601,  -505.19743647,  -528.03235152,  -528.98718454,\n",
       "         -547.46571791,  -532.99684515,  -546.63362898,  -503.61069525,\n",
       "                   nan,            nan,            nan,            nan,\n",
       "        -2214.51515222, -2421.0363008 , -2172.37804414, -2237.0302432 ,\n",
       "        -2625.3850813 , -2398.64806328, -2297.03276579, -2225.33310556,\n",
       "                   nan,            nan,            nan,            nan,\n",
       "         -584.9611666 ,  -635.94075847,  -548.09891872,  -586.68028082,\n",
       "         -582.32401644,  -548.93830435,  -546.37536935,  -569.94786818,\n",
       "                   nan,            nan,            nan,            nan,\n",
       "         -537.39383097,  -533.51502397,  -554.48103457,  -513.56658415,\n",
       "         -544.02615504,  -530.84206547,  -517.11061115,  -528.4393676 ,\n",
       "                   nan,            nan,            nan,            nan]),\n",
       " 'split1_test_score': array([ -965.78889217,  -822.6982938 ,  -984.24721153,  -803.96814933,\n",
       "         -948.95266702,  -921.58968134,  -884.6650102 ,  -826.90847916,\n",
       "                   nan,            nan,            nan,            nan,\n",
       "        -2553.72449112, -2736.74968601, -2507.71574808, -2430.04919433,\n",
       "        -2651.99884021, -2722.14023292, -2716.51847587, -2633.15913681,\n",
       "                   nan,            nan,            nan,            nan,\n",
       "         -891.34426765,  -898.01725565,  -956.31575384,  -911.2391327 ,\n",
       "         -839.55142198,  -876.81157042,  -958.59794884,  -925.02995901,\n",
       "                   nan,            nan,            nan,            nan,\n",
       "         -825.96984806,  -870.63858502,  -873.96752386,  -837.52129507,\n",
       "         -818.6094847 ,  -800.53586988,  -839.33304891,  -824.67725898,\n",
       "                   nan,            nan,            nan,            nan]),\n",
       " 'split2_test_score': array([ -837.32323627,  -645.84758672,  -622.52880941,  -624.25480149,\n",
       "         -689.28661372,  -601.65002012,  -646.64637181,  -584.88713071,\n",
       "                   nan,            nan,            nan,            nan,\n",
       "        -3049.82191016, -2974.86397923, -2993.7094428 , -2901.17909498,\n",
       "        -3086.40511106, -2943.57318286, -3010.84584199, -2879.51091768,\n",
       "                   nan,            nan,            nan,            nan,\n",
       "         -752.43612686,  -700.84745871,  -707.71218797,  -659.54082479,\n",
       "         -725.36067908,  -679.27192296,  -715.76074232,  -707.33023462,\n",
       "                   nan,            nan,            nan,            nan,\n",
       "         -624.95119725,  -621.12414672,  -654.4718462 ,  -632.64760177,\n",
       "         -663.97185508,  -708.85784363,  -626.98079719,  -624.04052994,\n",
       "                   nan,            nan,            nan,            nan]),\n",
       " 'split3_test_score': array([ -445.76287391,  -437.92916123,  -427.58180234,  -432.92261273,\n",
       "         -480.5849888 ,  -429.37617105,  -424.5377696 ,  -428.1727697 ,\n",
       "                   nan,            nan,            nan,            nan,\n",
       "        -2306.39308946, -2317.99687029, -2337.75514729, -2270.65749815,\n",
       "        -2388.45003578, -2380.53681559, -2359.40242499, -2314.711692  ,\n",
       "                   nan,            nan,            nan,            nan,\n",
       "         -499.10298562,  -500.92688699,  -489.74458178,  -502.21711639,\n",
       "         -502.34010019,  -495.74563227,  -478.12788996,  -503.03427997,\n",
       "                   nan,            nan,            nan,            nan,\n",
       "         -490.03922258,  -420.58799852,  -430.36252266,  -419.61141247,\n",
       "         -420.90064823,  -440.79271951,  -425.70599519,  -432.11729623,\n",
       "                   nan,            nan,            nan,            nan]),\n",
       " 'split4_test_score': array([ -520.86406704,  -531.15986568,  -530.67658131,  -525.14721908,\n",
       "         -537.94058682,  -518.5871378 ,  -530.54742327,  -514.90958895,\n",
       "                   nan,            nan,            nan,            nan,\n",
       "        -2004.57612403, -2254.42399109, -2102.46890335, -2186.48746045,\n",
       "        -2007.99442665, -2125.84609384, -2136.44448836, -2106.10278608,\n",
       "                   nan,            nan,            nan,            nan,\n",
       "         -588.60889476,  -602.0983273 ,  -576.92056153,  -593.34167812,\n",
       "         -582.34275689,  -563.10588662,  -591.43085454,  -571.07195552,\n",
       "                   nan,            nan,            nan,            nan,\n",
       "         -505.17653162,  -514.29145931,  -520.8520795 ,  -528.05106068,\n",
       "         -514.85245451,  -495.31899588,  -494.11707996,  -516.29246346,\n",
       "                   nan,            nan,            nan,            nan]),\n",
       " 'mean_test_score': array([ -668.76265308,  -588.56646878,  -618.61335122,  -583.05599343,\n",
       "         -640.84611485,  -600.83997109,  -606.60604077,  -571.69773275,\n",
       "                   nan,            nan,            nan,            nan,\n",
       "        -2425.8061534 , -2541.01416549, -2422.80545713, -2405.08069822,\n",
       "        -2552.046699  , -2514.1488777 , -2504.0487994 , -2431.76352762,\n",
       "                   nan,            nan,            nan,            nan,\n",
       "         -663.2906883 ,  -667.56613742,  -655.75840077,  -650.60380656,\n",
       "         -646.38379491,  -632.77466332,  -658.058561  ,  -655.28285946,\n",
       "                   nan,            nan,            nan,            nan,\n",
       "         -596.7061261 ,  -592.03144271,  -606.82700136,  -586.27959083,\n",
       "         -592.47211951,  -595.26949887,  -580.64950648,  -585.11338324,\n",
       "                   nan,            nan,            nan,            nan]),\n",
       " 'std_test_score': array([198.59811383, 134.93431737, 192.94263204, 125.94952692,\n",
       "        168.68266311, 169.49872321, 155.8528007 , 136.94278971,\n",
       "                 nan,          nan,          nan,          nan,\n",
       "        358.35649024, 273.05801029, 318.02643615, 261.08642279,\n",
       "        353.17548178, 286.22973673, 316.51153126, 284.04488612,\n",
       "                 nan,          nan,          nan,          nan,\n",
       "        140.44631019, 132.11374098, 166.37336058, 139.56677387,\n",
       "        120.419746  , 135.92294586, 169.08039408, 150.3499877 ,\n",
       "                 nan,          nan,          nan,          nan,\n",
       "        123.8007121 , 153.18541445, 151.59524377, 142.63829158,\n",
       "        137.15605254, 136.41163273, 144.63492481, 134.35939788,\n",
       "                 nan,          nan,          nan,          nan]),\n",
       " 'rank_test_score': array([24,  6, 14,  3, 16, 11, 12,  1, 33, 33, 33, 33, 27, 31, 26, 25, 32,\n",
       "        30, 29, 28, 33, 33, 33, 33, 22, 23, 20, 18, 17, 15, 21, 19, 33, 33,\n",
       "        33, 33, 10,  7, 13,  5,  8,  9,  2,  4, 33, 33, 33, 33])}"
      ]
     },
     "execution_count": 130,
     "metadata": {},
     "output_type": "execute_result"
    }
   ],
   "source": [
    "grid_search.cv_results_"
   ]
  },
  {
   "cell_type": "code",
   "execution_count": 132,
   "id": "ab462dba-e10e-4597-b31c-1f8966f2ba2c",
   "metadata": {},
   "outputs": [],
   "source": [
    "model.fit(X_train, y_train)\n",
    "\n",
    "importance = model.feature_importances_\n",
    "features = X_train.columns\n",
    "\n",
    "feature_importance = pd.Series(importance, index=features)"
   ]
  },
  {
   "cell_type": "markdown",
   "id": "7903c0b4-6af9-47f9-99b1-d80dd3a6fccb",
   "metadata": {},
   "source": [
    "# Feature Importance"
   ]
  },
  {
   "cell_type": "code",
   "execution_count": 135,
   "id": "35c835f5-3414-4594-b0e7-d0145749750b",
   "metadata": {},
   "outputs": [],
   "source": [
    "model.fit(X_train, y_train)\n",
    "\n",
    "importance = model.feature_importances_\n",
    "features = X_train.columns\n",
    "\n",
    "feature_importance = pd.Series(importance, index=features)"
   ]
  },
  {
   "cell_type": "code",
   "execution_count": 137,
   "id": "95bd2df2-9ca7-42c8-8f94-409cd2be02f9",
   "metadata": {},
   "outputs": [
    {
     "data": {
      "text/plain": [
       "array([0.06358987, 0.25396659, 0.04425079, 0.16522709, 0.47296566])"
      ]
     },
     "execution_count": 137,
     "metadata": {},
     "output_type": "execute_result"
    }
   ],
   "source": [
    "model.feature_importances_"
   ]
  },
  {
   "cell_type": "code",
   "execution_count": 139,
   "id": "9a9624c5-bf81-4ed2-8a53-aabdd6073032",
   "metadata": {},
   "outputs": [
    {
     "data": {
      "text/plain": [
       "GLD        0.063590\n",
       "USO        0.253967\n",
       "SLV        0.044251\n",
       "EUR/USD    0.165227\n",
       "DateInt    0.472966\n",
       "dtype: float64"
      ]
     },
     "execution_count": 139,
     "metadata": {},
     "output_type": "execute_result"
    }
   ],
   "source": [
    "feature_importance"
   ]
  },
  {
   "cell_type": "code",
   "execution_count": 141,
   "id": "f6b8eb70-3b87-4407-bc8a-33f8772ffee3",
   "metadata": {},
   "outputs": [
    {
     "data": {
      "text/plain": [
       "pandas.core.series.Series"
      ]
     },
     "execution_count": 141,
     "metadata": {},
     "output_type": "execute_result"
    }
   ],
   "source": [
    "type(feature_importance)"
   ]
  },
  {
   "cell_type": "code",
   "execution_count": 143,
   "id": "e3956cad-eb06-4c99-a92d-2c897768d1d3",
   "metadata": {},
   "outputs": [
    {
     "data": {
      "text/plain": [
       "<Axes: >"
      ]
     },
     "execution_count": 143,
     "metadata": {},
     "output_type": "execute_result"
    },
    {
     "data": {
      "image/png": "[encoded data removed]",
      "text/plain": [
       "<Figure size 1000x600 with 1 Axes>"
      ]
     },
     "metadata": {},
     "output_type": "display_data"
    }
   ],
   "source": [
    "plt.figure(figsize=(10,6))\n",
    "feature_importance.plot(kind='barh')"
   ]
  },
  {
   "cell_type": "markdown",
   "id": "a4cb099e-0bba-4637-9a6e-c0c983bc7fe1",
   "metadata": {},
   "source": [
    "### PDA Plots"
   ]
  },
  {
   "cell_type": "code",
   "execution_count": 154,
   "id": "f72e58ec-23b4-4ffd-9ad6-7292c7878668",
   "metadata": {},
   "outputs": [
    {
     "ename": "ValueError",
     "evalue": "All entries of features must be less than len(feature_names) = 5, got 5.",
     "output_type": "error",
     "traceback": [
      "\u001b[1;31m---------------------------------------------------------------------------\u001b[0m",
      "\u001b[1;31mValueError\u001b[0m                                Traceback (most recent call last)",
      "Cell \u001b[1;32mIn[154], line 6\u001b[0m\n\u001b[0;32m      4\u001b[0m fig, ax \u001b[38;5;241m=\u001b[39m plt\u001b[38;5;241m.\u001b[39msubplots(\u001b[38;5;241m1\u001b[39m, \u001b[38;5;28mlen\u001b[39m(features), figsize\u001b[38;5;241m=\u001b[39m(\u001b[38;5;241m15\u001b[39m,\u001b[38;5;241m5\u001b[39m))\n\u001b[0;32m      5\u001b[0m \u001b[38;5;28;01mfor\u001b[39;00m i,feature \u001b[38;5;129;01min\u001b[39;00m \u001b[38;5;28menumerate\u001b[39m(features):\n\u001b[1;32m----> 6\u001b[0m     display \u001b[38;5;241m=\u001b[39m PartialDependenceDisplay\u001b[38;5;241m.\u001b[39mfrom_estimator(model, X_train, [feature], ax\u001b[38;5;241m=\u001b[39m ax[i])\n\u001b[0;32m      8\u001b[0m plt\u001b[38;5;241m.\u001b[39msubplots_adjust(hspace\u001b[38;5;241m=\u001b[39m\u001b[38;5;241m0.5\u001b[39m, wspace\u001b[38;5;241m=\u001b[39m\u001b[38;5;241m0.3\u001b[39m)\n\u001b[0;32m      9\u001b[0m plt\u001b[38;5;241m.\u001b[39mshow()\n",
      "File \u001b[1;32m~\\anaconda3\\Lib\\site-packages\\sklearn\\inspection\\_plot\\partial_dependence.py:685\u001b[0m, in \u001b[0;36mPartialDependenceDisplay.from_estimator\u001b[1;34m(cls, estimator, X, features, sample_weight, categorical_features, feature_names, target, response_method, n_cols, grid_resolution, percentiles, method, n_jobs, verbose, line_kw, ice_lines_kw, pd_line_kw, contour_kw, ax, kind, centered, subsample, random_state)\u001b[0m\n\u001b[0;32m    683\u001b[0m \u001b[38;5;28;01mfor\u001b[39;00m i \u001b[38;5;129;01min\u001b[39;00m chain\u001b[38;5;241m.\u001b[39mfrom_iterable(features):\n\u001b[0;32m    684\u001b[0m     \u001b[38;5;28;01mif\u001b[39;00m i \u001b[38;5;241m>\u001b[39m\u001b[38;5;241m=\u001b[39m \u001b[38;5;28mlen\u001b[39m(feature_names):\n\u001b[1;32m--> 685\u001b[0m         \u001b[38;5;28;01mraise\u001b[39;00m \u001b[38;5;167;01mValueError\u001b[39;00m(\n\u001b[0;32m    686\u001b[0m             \u001b[38;5;124m\"\u001b[39m\u001b[38;5;124mAll entries of features must be less than \u001b[39m\u001b[38;5;124m\"\u001b[39m\n\u001b[0;32m    687\u001b[0m             \u001b[38;5;124m\"\u001b[39m\u001b[38;5;124mlen(feature_names) = \u001b[39m\u001b[38;5;132;01m{0}\u001b[39;00m\u001b[38;5;124m, got \u001b[39m\u001b[38;5;132;01m{1}\u001b[39;00m\u001b[38;5;124m.\u001b[39m\u001b[38;5;124m\"\u001b[39m\u001b[38;5;241m.\u001b[39mformat(\u001b[38;5;28mlen\u001b[39m(feature_names), i)\n\u001b[0;32m    688\u001b[0m         )\n\u001b[0;32m    690\u001b[0m \u001b[38;5;28;01mif\u001b[39;00m \u001b[38;5;28misinstance\u001b[39m(subsample, numbers\u001b[38;5;241m.\u001b[39mIntegral):\n\u001b[0;32m    691\u001b[0m     \u001b[38;5;28;01mif\u001b[39;00m subsample \u001b[38;5;241m<\u001b[39m\u001b[38;5;241m=\u001b[39m \u001b[38;5;241m0\u001b[39m:\n",
      "\u001b[1;31mValueError\u001b[0m: All entries of features must be less than len(feature_names) = 5, got 5."
     ]
    },
    {
     "data": {
      "image/png": "[encoded data removed]",
      "text/plain": [
       "<Figure size 1500x500 with 12 Axes>"
      ]
     },
     "metadata": {},
     "output_type": "display_data"
    }
   ],
   "source": [
    "from sklearn.inspection import PartialDependenceDisplay\n",
    "features = [0,1,2,3,4,5,6]\n",
    "\n",
    "fig, ax = plt.subplots(1, len(features), figsize=(15,5))\n",
    "for i,feature in enumerate(features):\n",
    "    display = PartialDependenceDisplay.from_estimator(model, X_train, [feature], ax= ax[i])\n",
    "\n",
    "plt.subplots_adjust(hspace=0.5, wspace=0.3)\n",
    "plt.show()"
   ]
  },
  {
   "cell_type": "code",
   "execution_count": null,
   "id": "1a22aa85-4524-4fab-8a14-51a11c1432df",
   "metadata": {},
   "outputs": [],
   "source": []
  },
  {
   "cell_type": "code",
   "execution_count": null,
   "id": "9a92f588-e6e1-43ee-8e79-3ba6a9395b6c",
   "metadata": {},
   "outputs": [],
   "source": []
  },
  {
   "cell_type": "code",
   "execution_count": null,
   "id": "acc2d60d-f12a-41f7-b10c-e9ef504e4226",
   "metadata": {},
   "outputs": [],
   "source": []
  },
  {
   "cell_type": "markdown",
   "id": "c4029403-4ab8-4ff1-8f21-785734d96de8",
   "metadata": {},
   "source": [
    "# Graphical User Interface"
   ]
  },
  {
   "cell_type": "markdown",
   "id": "251d0375-f6e7-4f4a-b99c-22ab04a14733",
   "metadata": {},
   "source": [
    "# Tkinter"
   ]
  },
  {
   "cell_type": "code",
   "execution_count": 37,
   "id": "a4cc6249-392b-4198-af8c-355c15bf3b07",
   "metadata": {},
   "outputs": [
    {
     "name": "stdout",
     "output_type": "stream",
     "text": [
      "Collecting tk\n",
      "  Downloading tk-0.1.0-py3-none-any.whl.metadata (693 bytes)\n",
      "Downloading tk-0.1.0-py3-none-any.whl (3.9 kB)\n",
      "Installing collected packages: tk\n",
      "Successfully installed tk-0.1.0\n"
     ]
    }
   ],
   "source": [
    "! pip install tk"
   ]
  },
  {
   "cell_type": "code",
   "execution_count": 158,
   "id": "5c8960f2-7b7f-4e4d-9b76-19260ca5c33d",
   "metadata": {},
   "outputs": [
    {
     "data": {
      "text/html": [
       "<div>\n",
       "<style scoped>\n",
       "    .dataframe tbody tr th:only-of-type {\n",
       "        vertical-align: middle;\n",
       "    }\n",
       "\n",
       "    .dataframe tbody tr th {\n",
       "        vertical-align: top;\n",
       "    }\n",
       "\n",
       "    .dataframe thead th {\n",
       "        text-align: right;\n",
       "    }\n",
       "</style>\n",
       "<table border=\"1\" class=\"dataframe\">\n",
       "  <thead>\n",
       "    <tr style=\"text-align: right;\">\n",
       "      <th></th>\n",
       "      <th>GLD</th>\n",
       "      <th>USO</th>\n",
       "      <th>SLV</th>\n",
       "      <th>EUR/USD</th>\n",
       "      <th>DateInt</th>\n",
       "    </tr>\n",
       "  </thead>\n",
       "  <tbody>\n",
       "    <tr>\n",
       "      <th>1018</th>\n",
       "      <td>160.539993</td>\n",
       "      <td>36.220001</td>\n",
       "      <td>28.920000</td>\n",
       "      <td>1.253447</td>\n",
       "      <td>20120822.0</td>\n",
       "    </tr>\n",
       "    <tr>\n",
       "      <th>1870</th>\n",
       "      <td>120.900002</td>\n",
       "      <td>11.740000</td>\n",
       "      <td>16.420000</td>\n",
       "      <td>1.132824</td>\n",
       "      <td>20160622.0</td>\n",
       "    </tr>\n",
       "    <tr>\n",
       "      <th>118</th>\n",
       "      <td>94.440002</td>\n",
       "      <td>33.869999</td>\n",
       "      <td>18.545000</td>\n",
       "      <td>1.585590</td>\n",
       "      <td>20080716.0</td>\n",
       "    </tr>\n",
       "    <tr>\n",
       "      <th>220</th>\n",
       "      <td>84.519997</td>\n",
       "      <td>28.660000</td>\n",
       "      <td>11.090000</td>\n",
       "      <td>1.288494</td>\n",
       "      <td>20090120.0</td>\n",
       "    </tr>\n",
       "    <tr>\n",
       "      <th>2053</th>\n",
       "      <td>122.599998</td>\n",
       "      <td>11.130000</td>\n",
       "      <td>17.530001</td>\n",
       "      <td>1.061639</td>\n",
       "      <td>20170413.0</td>\n",
       "    </tr>\n",
       "  </tbody>\n",
       "</table>\n",
       "</div>"
      ],
      "text/plain": [
       "             GLD        USO        SLV   EUR/USD     DateInt\n",
       "1018  160.539993  36.220001  28.920000  1.253447  20120822.0\n",
       "1870  120.900002  11.740000  16.420000  1.132824  20160622.0\n",
       "118    94.440002  33.869999  18.545000  1.585590  20080716.0\n",
       "220    84.519997  28.660000  11.090000  1.288494  20090120.0\n",
       "2053  122.599998  11.130000  17.530001  1.061639  20170413.0"
      ]
     },
     "execution_count": 158,
     "metadata": {},
     "output_type": "execute_result"
    }
   ],
   "source": [
    "X_train.head()"
   ]
  },
  {
   "cell_type": "code",
   "execution_count": 162,
   "id": "2130a9ee-64d9-4769-8bf0-74a2cc41a61c",
   "metadata": {},
   "outputs": [],
   "source": [
    "import tkinter as tk"
   ]
  },
  {
   "cell_type": "code",
   "execution_count": 164,
   "id": "beb2e437-6a3b-4fb4-9d28-f29e645ec05d",
   "metadata": {},
   "outputs": [],
   "source": [
    "def predict_price():\n",
    "    try:\n",
    "        inputs = [float(entry_GLD.get()),float(entry_USO.get()),float(entry_SLV.get()),float(entry_EUR/USD.get()),float(entry_DateInt.get())]\n",
    "        prediction = rf_model.predict(inputs)\n",
    "        results.set(f\"Predicted Class:  {prediction[0]}\")\n",
    "    except ValueError:\n",
    "        messagebox.showerror(\"Input error\", \"Please enter valid inputs\")\n",
    "        "
   ]
  },
  {
   "cell_type": "code",
   "execution_count": 172,
   "id": "f8e0d6c6-ac0f-4c7d-b3e6-ea332a3807d6",
   "metadata": {},
   "outputs": [],
   "source": [
    "def reset_entries():\n",
    "    for entry in entries:\n",
    "         entry.delete(0, tk.END)\n",
    "    result.set(\"\")"
   ]
  },
  {
   "cell_type": "code",
   "execution_count": 186,
   "id": "acd9201e-83c5-4290-b802-8952a47cbbbb",
   "metadata": {},
   "outputs": [
    {
     "name": "stderr",
     "output_type": "stream",
     "text": [
      "Exception in Tkinter callback\n",
      "Traceback (most recent call last):\n",
      "  File \"C:\\Users\\Dell\\anaconda3\\Lib\\tkinter\\__init__.py\", line 1968, in __call__\n",
      "    return self.func(*args)\n",
      "           ^^^^^^^^^^^^^^^^\n",
      "  File \"C:\\Users\\Dell\\AppData\\Local\\Temp\\ipykernel_7016\\2256228028.py\", line 3, in predict_price\n",
      "    inputs = [float(entry_GLD.get()),float(entry_USO.get()),float(entry_SLV.get()),float(entry_EUR/USD.get()),float(entry_DateInt.get())]\n",
      "                                                                                         ^^^^^^^^^\n",
      "NameError: name 'entry_EUR' is not defined. Did you mean: 'entry_GLD'?\n",
      "Exception in Tkinter callback\n",
      "Traceback (most recent call last):\n",
      "  File \"C:\\Users\\Dell\\anaconda3\\Lib\\tkinter\\__init__.py\", line 1968, in __call__\n",
      "    return self.func(*args)\n",
      "           ^^^^^^^^^^^^^^^^\n",
      "  File \"C:\\Users\\Dell\\AppData\\Local\\Temp\\ipykernel_7016\\2256228028.py\", line 3, in predict_price\n",
      "    inputs = [float(entry_GLD.get()),float(entry_USO.get()),float(entry_SLV.get()),float(entry_EUR/USD.get()),float(entry_DateInt.get())]\n",
      "                                                                                         ^^^^^^^^^\n",
      "NameError: name 'entry_EUR' is not defined. Did you mean: 'entry_GLD'?\n",
      "Exception in Tkinter callback\n",
      "Traceback (most recent call last):\n",
      "  File \"C:\\Users\\Dell\\anaconda3\\Lib\\tkinter\\__init__.py\", line 1968, in __call__\n",
      "    return self.func(*args)\n",
      "           ^^^^^^^^^^^^^^^^\n",
      "  File \"C:\\Users\\Dell\\AppData\\Local\\Temp\\ipykernel_7016\\2256228028.py\", line 3, in predict_price\n",
      "    inputs = [float(entry_GLD.get()),float(entry_USO.get()),float(entry_SLV.get()),float(entry_EUR/USD.get()),float(entry_DateInt.get())]\n",
      "                                                                                         ^^^^^^^^^\n",
      "NameError: name 'entry_EUR' is not defined. Did you mean: 'entry_GLD'?\n"
     ]
    }
   ],
   "source": [
    "root = tk.Tk()\n",
    "root.title(\"Gold Price Prediction\")\n",
    "labels = list(X_train.columns)\n",
    "entries = []\n",
    "for i, label in enumerate(labels):\n",
    "    tk.Label(root,text=label).grid(row=i,column=0)\n",
    "    entry = tk.Entry(root)\n",
    "    entry.grid(row=i,column=1)\n",
    "    entries.append(entry)\n",
    "(entry_GLD,entry_USO,entry_SLV,entry_EURUSD,entry_DateInt) = entries\n",
    "result = tk.StringVar()\n",
    "tk.Label(root, textvariable=result).grid(row=13,column=0,columnspan=2)\n",
    "tk.Button(root, text=\"Predict\", command = predict_price).grid(row=14,column=0)\n",
    "tk.Button(root, text=\"Reset\", command=reset_entries).grid(row=14,column=1)\n",
    "\n",
    "root.mainloop()\n"
   ]
  },
  {
   "cell_type": "code",
   "execution_count": null,
   "id": "e4a3ea9b-6ef5-4cd4-a1eb-888efc50fcd8",
   "metadata": {},
   "outputs": [],
   "source": []
  }
 ],
 "metadata": {
  "kernelspec": {
   "display_name": "Python 3 (ipykernel)",
   "language": "python",
   "name": "python3"
  },
  "language_info": {
   "codemirror_mode": {
    "name": "ipython",
    "version": 3
   },
   "file_extension": ".py",
   "mimetype": "text/x-python",
   "name": "python",
   "nbconvert_exporter": "python",
   "pygments_lexer": "ipython3",
   "version": "3.12.4"
  }
 },
 "nbformat": 4,
 "nbformat_minor": 5
}
